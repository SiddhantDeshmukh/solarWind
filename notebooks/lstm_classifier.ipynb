{
 "cells": [
  {
   "cell_type": "code",
   "execution_count": 27,
   "metadata": {},
   "outputs": [],
   "source": [
    "from datetime import datetime\n",
    "import os\n",
    "import warnings\n",
    "\n",
    "import heliopy.data.omni as omni\n",
    "from keras import backend as K\n",
    "from matplotlib import pyplot as plt\n",
    "import optuna\n",
    "from optuna import visualization as viz\n",
    "import numpy as np\n",
    "import pandas as pd\n",
    "from scipy.signal import find_peaks\n",
    "from scipy.stats import ks_2samp\n",
    "from sklearn.metrics import fbeta_score\n",
    "from sklearn.model_selection import StratifiedShuffleSplit\n",
    "from sklearn.utils import class_weight\n",
    "import tensorflow as tf\n",
    "from tensorflow import keras\n",
    "\n",
    "from typing import *\n",
    "\n",
    "warnings.filterwarnings(\"ignore\")\n",
    "plt.style.use(\"seaborn\")"
   ]
  },
  {
   "cell_type": "markdown",
   "metadata": {},
   "source": [
    "### Data Preparation"
   ]
  },
  {
   "cell_type": "code",
   "execution_count": 28,
   "metadata": {},
   "outputs": [],
   "source": [
    "START_TIME_CYCLE_21 = datetime(1976, 3, 1)  \n",
    "START_TIME_CYCLE_22 = datetime(1986, 9, 1)  \n",
    "START_TIME_CYCLE_23 = datetime(1996, 8, 1)  \n",
    "START_TIME_CYCLE_24 = datetime(2008, 12, 1)  \n",
    "START_TIME_CYCLE_25 = datetime(2019, 12, 1)\n",
    "\n",
    "INPUT_LENGTH = 100\n",
    "OUTPUT_LENGTH = 24\n",
    "PERCENTILE = 10\n",
    "VAR_TO_PREDICT = \"BN\""
   ]
  },
  {
   "cell_type": "code",
   "execution_count": 29,
   "metadata": {},
   "outputs": [],
   "source": [
    "def get_omni_rtn_data(start_time, end_time):\n",
    "    identifier = 'OMNI_COHO1HR_MERGED_MAG_PLASMA'  # COHO 1HR data\n",
    "    omni_data = omni._omni(start_time, end_time, identifier=identifier, intervals='yearly', warn_missing_units=False)\n",
    "    return omni_data"
   ]
  },
  {
   "cell_type": "code",
   "execution_count": 30,
   "metadata": {},
   "outputs": [],
   "source": [
    "cycle_21 = get_omni_rtn_data(START_TIME_CYCLE_21, START_TIME_CYCLE_22).to_dataframe()\n",
    "cycle_22 = get_omni_rtn_data(START_TIME_CYCLE_22, START_TIME_CYCLE_23).to_dataframe()\n",
    "cycle_23 = get_omni_rtn_data(START_TIME_CYCLE_23, START_TIME_CYCLE_24).to_dataframe()\n",
    "cycle_24 = get_omni_rtn_data(START_TIME_CYCLE_24, START_TIME_CYCLE_25).to_dataframe()\n",
    "\n",
    "mag_field_strength_21 = np.array(cycle_21[VAR_TO_PREDICT])\n",
    "mag_field_strength_22 = np.array(cycle_22[VAR_TO_PREDICT])\n",
    "mag_field_strength_23 = np.array(cycle_23[VAR_TO_PREDICT])\n",
    "mag_field_strength_24 = np.array(cycle_24[VAR_TO_PREDICT])"
   ]
  },
  {
   "cell_type": "code",
   "execution_count": 31,
   "metadata": {},
   "outputs": [],
   "source": [
    "def lstm_prepare_1d(mag_field_strength, input_length=INPUT_LENGTH, output_length=OUTPUT_LENGTH):\n",
    "    inputs = np.array([mag_field_strength[i:i + input_length] \n",
    "                       for i in range(len(mag_field_strength) - input_length)])[:, :, np.newaxis]\n",
    "    outputs = np.array([mag_field_strength[i + input_length:i + input_length + output_length] \n",
    "                        for i in range(len(mag_field_strength) - input_length - output_length)])\n",
    "\n",
    "\n",
    "    nan_check = np.array([mag_field_strength[i:i + input_length + output_length] \n",
    "                          for i in range(len(mag_field_strength) - input_length - output_length)])\n",
    "\n",
    "    inputs = inputs[np.where([~np.any(np.isnan(i)) for i in nan_check])]\n",
    "    outputs = outputs[np.where([~np.any(np.isnan(i)) for i in nan_check])]\n",
    "    \n",
    "\n",
    "    print(\"Input shape:\", inputs.shape)\n",
    "    print(\"Output shape:\", outputs.shape)\n",
    "    print(\"Any Nans?:\", np.any(np.isnan(outputs)) or np.any(np.isnan(inputs)))\n",
    "    print(\"\")\n",
    "    return inputs, outputs"
   ]
  },
  {
   "cell_type": "markdown",
   "metadata": {},
   "source": [
    "### Train/Val/Test"
   ]
  },
  {
   "cell_type": "code",
   "execution_count": 32,
   "metadata": {},
   "outputs": [
    {
     "name": "stdout",
     "output_type": "stream",
     "text": [
      "Input shape: (5132, 100, 1)\n",
      "Output shape: (5132, 24)\n",
      "Any Nans?: False\n",
      "\n",
      "Input shape: (105288, 100, 1)\n",
      "Output shape: (105288, 24)\n",
      "Any Nans?: False\n",
      "\n",
      "Input shape: (11376, 100, 1)\n",
      "Output shape: (11376, 24)\n",
      "Any Nans?: False\n",
      "\n",
      "Input shape: (95144, 100, 1)\n",
      "Output shape: (95144, 24)\n",
      "Any Nans?: False\n",
      "\n"
     ]
    }
   ],
   "source": [
    "inputs_21, outputs_21 = lstm_prepare_1d(mag_field_strength_21)\n",
    "inputs_23, outputs_23 = lstm_prepare_1d(mag_field_strength_23)\n",
    "inputs_val, outputs_val = lstm_prepare_1d(mag_field_strength_22)\n",
    "inputs_test, outputs_test = lstm_prepare_1d(mag_field_strength_24)"
   ]
  },
  {
   "cell_type": "code",
   "execution_count": 33,
   "metadata": {},
   "outputs": [],
   "source": [
    "inputs_train = np.concatenate([inputs_21, inputs_23])\n",
    "outputs_train = np.concatenate([outputs_21, outputs_23])"
   ]
  },
  {
   "cell_type": "markdown",
   "metadata": {},
   "source": [
    "### Subset for AnEn"
   ]
  },
  {
   "cell_type": "code",
   "execution_count": 34,
   "metadata": {},
   "outputs": [],
   "source": [
    "training_field_strength = np.concatenate([mag_field_strength_21, mag_field_strength_23])\n",
    "training_field_strength = training_field_strength[training_field_strength == training_field_strength]\n",
    "solar_storm = np.percentile(training_field_strength, PERCENTILE)"
   ]
  },
  {
   "cell_type": "code",
   "execution_count": 35,
   "metadata": {
    "scrolled": true
   },
   "outputs": [
    {
     "name": "stdout",
     "output_type": "stream",
     "text": [
      "0.46069777217318203 0.46079626671151097\n"
     ]
    },
    {
     "data": {
      "image/png": "[encoded data removed]",
      "text/plain": [
       "<Figure size 576x396 with 1 Axes>"
      ]
     },
     "metadata": {},
     "output_type": "display_data"
    },
    {
     "data": {
      "image/png": "[encoded data removed]",
      "text/plain": [
       "<Figure size 576x396 with 1 Axes>"
      ]
     },
     "metadata": {},
     "output_type": "display_data"
    }
   ],
   "source": [
    "outputs_test_mean = np.mean(outputs_test, axis=1)\n",
    "outputs_test_std = np.std(outputs_test, axis=1)\n",
    "outputs_test_binary = np.any(outputs_test <= solar_storm, axis=1).astype(int)\n",
    "\n",
    "test_set = np.transpose(np.stack((outputs_test_mean, outputs_test_std, outputs_test_binary)))\n",
    "split = StratifiedShuffleSplit(n_splits=1, test_size=0.05, random_state=42)\n",
    "for train_index, test_index in split.split(test_set, test_set[:, 2]):\n",
    "    strat_test_set = test_set[test_index]\n",
    "\n",
    "print(strat_test_set[:, 2].sum() / len(strat_test_set), test_set[:, 2].sum() / len(test_set))\n",
    "plt.hist(outputs_test_mean, alpha=0.5, density=True, color=\"green\")\n",
    "plt.hist(strat_test_set[:, 0], alpha=0.5, density=True, color=\"blue\")\n",
    "plt.show()\n",
    "plt.hist(outputs_test_std, alpha=0.5, density=True, color=\"green\")\n",
    "plt.hist(strat_test_set[:, 1], alpha=0.5, density=True, color=\"blue\")\n",
    "plt.show()"
   ]
  },
  {
   "cell_type": "code",
   "execution_count": 38,
   "metadata": {},
   "outputs": [],
   "source": [
    "inputs_strat_test_set = inputs_train[test_index]\n",
    "outputs_strat_test_set = strat_test_set[:, 2]"
   ]
  },
  {
   "cell_type": "markdown",
   "metadata": {},
   "source": [
    "### Convert to classification"
   ]
  },
  {
   "cell_type": "code",
   "execution_count": 39,
   "metadata": {},
   "outputs": [],
   "source": [
    "outputs_train = np.any(outputs_train <= solar_storm, axis=1).astype(int)\n",
    "outputs_val = np.any(outputs_val <= solar_storm, axis=1).astype(int)\n",
    "outputs_test = np.any(outputs_test <= solar_storm, axis=1).astype(int)"
   ]
  },
  {
   "cell_type": "markdown",
   "metadata": {},
   "source": [
    "### Normalise"
   ]
  },
  {
   "cell_type": "code",
   "execution_count": 40,
   "metadata": {},
   "outputs": [],
   "source": [
    "inputs_train_norm = (inputs_train - np.nanmean(training_field_strength)) / np.nanstd(training_field_strength)\n",
    "inputs_val_norm = (inputs_val - np.nanmean(training_field_strength)) / np.nanstd(training_field_strength)\n",
    "inputs_test_norm = (inputs_test - np.nanmean(training_field_strength)) / np.nanstd(training_field_strength)"
   ]
  },
  {
   "cell_type": "markdown",
   "metadata": {},
   "source": [
    "### Baselines"
   ]
  },
  {
   "cell_type": "code",
   "execution_count": 79,
   "metadata": {},
   "outputs": [],
   "source": [
    "def print_metrics(y_true, y_pred):\n",
    "    tp = np.logical_and(y_true == 1, y_pred == 1).sum()\n",
    "    tn = np.logical_and(y_true == 0, y_pred == 0).sum()\n",
    "    fp = np.logical_and(y_true == 0, y_pred == 1).sum()\n",
    "    fn = np.logical_and(y_true == 1, y_pred == 0).sum()\n",
    "    \n",
    "    print(\"Sens:\", np.round(100 * tp / (tp + fn), 2))\n",
    "    print(\"Spec:\", np.round(100 * tn / (tn + fp), 2))\n",
    "    print(\"Prec:\", np.round(100 * tp / (tp + fp), 2))\n",
    "    print(\"NPV:\", np.round(100 * tn / (tn + fn), 2))\n",
    "    \n",
    "    print(\"Acc:\", np.round(100 * (tn + tp) / len(y_true), 2))\n",
    "    print(\"F1:\", 100 * np.round(fbeta_score(y_true, y_pred, beta=1), 2))\n",
    "    print(\"F2:\", 100 * np.round(fbeta_score(y_true, y_pred, beta=2), 2))\n",
    "    print(\"\\n\")"
   ]
  },
  {
   "cell_type": "code",
   "execution_count": 76,
   "metadata": {},
   "outputs": [],
   "source": [
    "BASELINE_DATAPOINTS = 24"
   ]
  },
  {
   "cell_type": "code",
   "execution_count": 80,
   "metadata": {
    "scrolled": true
   },
   "outputs": [
    {
     "name": "stdout",
     "output_type": "stream",
     "text": [
      "ALL O\n",
      "Sens: nan\n",
      "Spec: 46.19\n",
      "Prec: 0.0\n",
      "NPV: 100.0\n",
      "Acc: 46.19\n",
      "F1: 0.0\n",
      "F2: 0.0\n",
      "\n",
      "\n",
      "Sens: nan\n",
      "Spec: 52.95\n",
      "Prec: 0.0\n",
      "NPV: 100.0\n",
      "Acc: 52.95\n",
      "F1: 0.0\n",
      "F2: 0.0\n",
      "\n",
      "\n",
      "Sens: nan\n",
      "Spec: 53.92\n",
      "Prec: 0.0\n",
      "NPV: 100.0\n",
      "Acc: 53.92\n",
      "F1: 0.0\n",
      "F2: 0.0\n",
      "\n",
      "\n"
     ]
    }
   ],
   "source": [
    "print(\"ALL O\")\n",
    "for out in [outputs_train, outputs_val, outputs_test]:\n",
    "    print_metrics(np.zeros_like(out), out)"
   ]
  },
  {
   "cell_type": "code",
   "execution_count": 81,
   "metadata": {
    "scrolled": true
   },
   "outputs": [
    {
     "name": "stdout",
     "output_type": "stream",
     "text": [
      "ANY 24\n",
      "Sens: 64.79\n",
      "Spec: 58.99\n",
      "Prec: 64.79\n",
      "NPV: 58.99\n",
      "Acc: 62.11\n",
      "F1: 65.0\n",
      "F2: 65.0\n",
      "\n",
      "\n",
      "Sens: 54.12\n",
      "Spec: 59.23\n",
      "Prec: 54.07\n",
      "NPV: 59.28\n",
      "Acc: 56.83\n",
      "F1: 54.0\n",
      "F2: 54.0\n",
      "\n",
      "\n",
      "Sens: 56.42\n",
      "Spec: 62.79\n",
      "Prec: 56.53\n",
      "NPV: 62.68\n",
      "Acc: 59.85\n",
      "F1: 56.00000000000001\n",
      "F2: 56.00000000000001\n",
      "\n",
      "\n"
     ]
    }
   ],
   "source": [
    "print(\"ANY 24\")\n",
    "for inp, out in zip([inputs_train, inputs_val, inputs_test],\n",
    "                    [outputs_train, outputs_val, outputs_test]):\n",
    "    print_metrics(np.any(inp[:, -BASELINE_DATAPOINTS:] <= solar_storm, axis=1).astype(int)[:, 0], out)"
   ]
  },
  {
   "cell_type": "code",
   "execution_count": 82,
   "metadata": {
    "scrolled": true
   },
   "outputs": [
    {
     "name": "stdout",
     "output_type": "stream",
     "text": [
      "MEAN 24\n",
      "Sens: 80.8\n",
      "Spec: 46.9\n",
      "Prec: 3.83\n",
      "NPV: 98.94\n",
      "Acc: 47.76\n",
      "F1: 7.000000000000001\n",
      "F2: 16.0\n",
      "\n",
      "\n",
      "Sens: 77.4\n",
      "Spec: 53.43\n",
      "Prec: 2.56\n",
      "NPV: 99.34\n",
      "Acc: 53.81\n",
      "F1: 5.0\n",
      "F2: 11.0\n",
      "\n",
      "\n",
      "Sens: 78.82\n",
      "Spec: 54.42\n",
      "Prec: 2.55\n",
      "NPV: 99.41\n",
      "Acc: 54.78\n",
      "F1: 5.0\n",
      "F2: 11.0\n",
      "\n",
      "\n"
     ]
    }
   ],
   "source": [
    "print(\"MEAN 24\")\n",
    "for inp, out in zip([inputs_train, inputs_val, inputs_test],\n",
    "                    [outputs_train, outputs_val, outputs_test]):\n",
    "    print_metrics((np.mean(inp[:, -BASELINE_DATAPOINTS:], axis=1) <= solar_storm).astype(int)[:, 0], out)"
   ]
  },
  {
   "cell_type": "code",
   "execution_count": 83,
   "metadata": {
    "scrolled": true
   },
   "outputs": [
    {
     "name": "stdout",
     "output_type": "stream",
     "text": [
      "LAST\n",
      "Sens: 88.29\n",
      "Spec: 49.72\n",
      "Prec: 15.21\n",
      "NPV: 97.65\n",
      "Acc: 53.29\n",
      "F1: 26.0\n",
      "F2: 45.0\n",
      "\n",
      "\n",
      "Sens: 81.39\n",
      "Spec: 55.27\n",
      "Prec: 10.95\n",
      "NPV: 97.78\n",
      "Acc: 56.93\n",
      "F1: 19.0\n",
      "F2: 36.0\n",
      "\n",
      "\n",
      "Sens: 84.52\n",
      "Spec: 56.8\n",
      "Prec: 12.79\n",
      "NPV: 98.0\n",
      "Acc: 58.74\n",
      "F1: 22.0\n",
      "F2: 40.0\n",
      "\n",
      "\n"
     ]
    }
   ],
   "source": [
    "print(\"LAST\")\n",
    "for inp, out in zip([inputs_train, inputs_val, inputs_test],\n",
    "                    [outputs_train, outputs_val, outputs_test]):\n",
    "    print_metrics((np.mean(inp[:, -1:], axis=1) <= solar_storm).astype(int)[:, 0], out)"
   ]
  },
  {
   "cell_type": "code",
   "execution_count": 84,
   "metadata": {
    "scrolled": true
   },
   "outputs": [
    {
     "name": "stdout",
     "output_type": "stream",
     "text": [
      "0.025 QUANT\n",
      "Sens: 66.44\n",
      "Spec: 56.5\n",
      "Prec: 55.5\n",
      "NPV: 67.34\n",
      "Acc: 60.97\n",
      "F1: 60.0\n",
      "F2: 64.0\n",
      "\n",
      "\n",
      "Sens: 56.32\n",
      "Spec: 58.14\n",
      "Prec: 42.94\n",
      "NPV: 70.42\n",
      "Acc: 57.49\n",
      "F1: 49.0\n",
      "F2: 53.0\n",
      "\n",
      "\n",
      "Sens: 58.33\n",
      "Spec: 61.15\n",
      "Prec: 46.99\n",
      "NPV: 71.31\n",
      "Acc: 60.1\n",
      "F1: 52.0\n",
      "F2: 56.00000000000001\n",
      "\n",
      "\n"
     ]
    }
   ],
   "source": [
    "print(\"0.025 QUANT\")\n",
    "for inp, out in zip([inputs_train, inputs_val, inputs_test],\n",
    "                    [outputs_train, outputs_val, outputs_test]):\n",
    "    print_metrics((np.quantile(inp[:, -BASELINE_DATAPOINTS:], 0.025, axis=1) <= solar_storm).astype(int)[:, 0], out)"
   ]
  },
  {
   "cell_type": "markdown",
   "metadata": {},
   "source": [
    "### LSTM"
   ]
  },
  {
   "cell_type": "code",
   "execution_count": 48,
   "metadata": {},
   "outputs": [],
   "source": [
    "class_weights = class_weight.compute_class_weight('balanced',\n",
    "                                                 np.unique(outputs_train),\n",
    "                                                 outputs_train)\n",
    "class_weights = {0: class_weights[0], 1: class_weights[1]}"
   ]
  },
  {
   "cell_type": "code",
   "execution_count": 61,
   "metadata": {},
   "outputs": [],
   "source": [
    "class AccuracyCallback(tf.keras.callbacks.Callback):\n",
    "\n",
    "    def __init__(self, data):\n",
    "        self.data = data\n",
    "\n",
    "    def on_epoch_end(self, epoch, logs=None):\n",
    "        x_data, y_data = self.data\n",
    "        y_pred = np.round(self.model.predict(x_data, verbose=0)[:, 0])\n",
    "\n",
    "        tp = np.logical_and(y_data == 1, y_pred == 1).sum()\n",
    "        tn = np.logical_and(y_data == 0, y_pred == 0).sum()\n",
    "        fp = np.logical_and(y_data == 0, y_pred == 1).sum()\n",
    "        fn = np.logical_and(y_data == 1, y_pred == 0).sum()\n",
    "        \n",
    "        print(\"TP, TN, FP, FN:\", tp, tn, fp, fn)\n",
    "        print(\"Sens:\", np.round(100 * tp / (tp + fn), 2))\n",
    "        print(\"Spec:\", np.round(100 * tn / (tn + fp), 2))\n",
    "        print(\"Prec:\", np.round(100 * tp / (tp + fp), 2))\n",
    "        print(\"NPV:\", np.round(100 * tn / (tn + fn), 2))\n",
    "        print(\"Accuracy:\", np.round(100 * (tn + tp) / len(y_data), 2))\n",
    "        print(\"\")"
   ]
  },
  {
   "cell_type": "code",
   "execution_count": 85,
   "metadata": {},
   "outputs": [],
   "source": [
    "def f_score(y_true, y_pred, beta=2):\n",
    "    true_positives = K.sum(K.round(K.clip(y_true * y_pred, 0, 1)))\n",
    "    possible_positives = K.sum(K.round(K.clip(y_true, 0, 1)))\n",
    "    predicted_positives = K.sum(K.round(K.clip(y_pred, 0, 1)))\n",
    "    \n",
    "    precision = true_positives / (predicted_positives + K.epsilon()) \n",
    "    recall = true_positives / (possible_positives + K.epsilon())\n",
    "    return (1 + beta ** 2) * (precision * recall) / ((precision * beta ** 2) + recall + K.epsilon())"
   ]
  },
  {
   "cell_type": "code",
   "execution_count": 87,
   "metadata": {
    "scrolled": true
   },
   "outputs": [
    {
     "name": "stdout",
     "output_type": "stream",
     "text": [
      "Epoch 1/500\n",
      "3451/3451 - 20s - loss: 0.6222 - accuracy: 0.6484 - f_score: 0.6248 - val_loss: 0.6663 - val_accuracy: 0.6079 - val_f_score: 0.3154\n",
      "TP, TN, FP, FN: 2551 4364 1660 2801\n",
      "Sens: 47.66\n",
      "Spec: 72.44\n",
      "Prec: 60.58\n",
      "NPV: 60.91\n",
      "Accuracy: 60.79\n",
      "\n",
      "Epoch 2/500\n",
      "3451/3451 - 17s - loss: 0.6102 - accuracy: 0.6618 - f_score: 0.6441 - val_loss: 0.6608 - val_accuracy: 0.6089 - val_f_score: 0.3154\n",
      "TP, TN, FP, FN: 2486 4441 1583 2866\n",
      "Sens: 46.45\n",
      "Spec: 73.72\n",
      "Prec: 61.1\n",
      "NPV: 60.78\n",
      "Accuracy: 60.89\n",
      "\n",
      "Epoch 3/500\n",
      "3451/3451 - 17s - loss: 0.6079 - accuracy: 0.6646 - f_score: 0.6503 - val_loss: 0.6591 - val_accuracy: 0.6111 - val_f_score: 0.3426\n",
      "TP, TN, FP, FN: 2721 4231 1793 2631\n",
      "Sens: 50.84\n",
      "Spec: 70.24\n",
      "Prec: 60.28\n",
      "NPV: 61.66\n",
      "Accuracy: 61.11\n",
      "\n",
      "Epoch 4/500\n",
      "3451/3451 - 19s - loss: 0.6065 - accuracy: 0.6663 - f_score: 0.6534 - val_loss: 0.6677 - val_accuracy: 0.6099 - val_f_score: 0.3118\n",
      "TP, TN, FP, FN: 2467 4471 1553 2885\n",
      "Sens: 46.09\n",
      "Spec: 74.22\n",
      "Prec: 61.37\n",
      "NPV: 60.78\n",
      "Accuracy: 60.99\n",
      "\n",
      "Epoch 5/500\n",
      "3451/3451 - 20s - loss: 0.6051 - accuracy: 0.6681 - f_score: 0.6559 - val_loss: 0.6647 - val_accuracy: 0.6099 - val_f_score: 0.3385\n",
      "TP, TN, FP, FN: 2681 4257 1767 2671\n",
      "Sens: 50.09\n",
      "Spec: 70.67\n",
      "Prec: 60.27\n",
      "NPV: 61.45\n",
      "Accuracy: 60.99\n",
      "\n",
      "Epoch 6/500\n",
      "3451/3451 - 18s - loss: 0.6030 - accuracy: 0.6691 - f_score: 0.6560 - val_loss: 0.6669 - val_accuracy: 0.6108 - val_f_score: 0.3289\n",
      "TP, TN, FP, FN: 2618 4330 1694 2734\n",
      "Sens: 48.92\n",
      "Spec: 71.88\n",
      "Prec: 60.71\n",
      "NPV: 61.3\n",
      "Accuracy: 61.08\n",
      "\n",
      "Epoch 7/500\n",
      "3451/3451 - 19s - loss: 0.6009 - accuracy: 0.6705 - f_score: 0.6577 - val_loss: 0.6649 - val_accuracy: 0.6067 - val_f_score: 0.3325\n",
      "TP, TN, FP, FN: 2682 4220 1804 2670\n",
      "Sens: 50.11\n",
      "Spec: 70.05\n",
      "Prec: 59.79\n",
      "NPV: 61.25\n",
      "Accuracy: 60.67\n",
      "\n",
      "Epoch 8/500\n",
      "3451/3451 - 19s - loss: 0.5983 - accuracy: 0.6743 - f_score: 0.6617 - val_loss: 0.6720 - val_accuracy: 0.6043 - val_f_score: 0.3364\n",
      "TP, TN, FP, FN: 2700 4175 1849 2652\n",
      "Sens: 50.45\n",
      "Spec: 69.31\n",
      "Prec: 59.35\n",
      "NPV: 61.15\n",
      "Accuracy: 60.43\n",
      "\n",
      "Epoch 9/500\n",
      "3451/3451 - 19s - loss: 0.5953 - accuracy: 0.6762 - f_score: 0.6614 - val_loss: 0.6747 - val_accuracy: 0.6037 - val_f_score: 0.3383\n",
      "TP, TN, FP, FN: 2694 4174 1850 2658\n",
      "Sens: 50.34\n",
      "Spec: 69.29\n",
      "Prec: 59.29\n",
      "NPV: 61.09\n",
      "Accuracy: 60.37\n",
      "\n",
      "Epoch 10/500\n",
      "3451/3451 - 19s - loss: 0.5920 - accuracy: 0.6798 - f_score: 0.6647 - val_loss: 0.6760 - val_accuracy: 0.6065 - val_f_score: 0.3241\n",
      "TP, TN, FP, FN: 2582 4317 1707 2770\n",
      "Sens: 48.24\n",
      "Spec: 71.66\n",
      "Prec: 60.2\n",
      "NPV: 60.91\n",
      "Accuracy: 60.65\n",
      "\n",
      "Epoch 11/500\n",
      "3451/3451 - 19s - loss: 0.5886 - accuracy: 0.6827 - f_score: 0.6664 - val_loss: 0.6951 - val_accuracy: 0.5998 - val_f_score: 0.3046\n",
      "TP, TN, FP, FN: 2459 4364 1660 2893\n",
      "Sens: 45.95\n",
      "Spec: 72.44\n",
      "Prec: 59.7\n",
      "NPV: 60.14\n",
      "Accuracy: 59.98\n",
      "\n",
      "Epoch 12/500\n",
      "3451/3451 - 20s - loss: 0.5854 - accuracy: 0.6859 - f_score: 0.6684 - val_loss: 0.6920 - val_accuracy: 0.5947 - val_f_score: 0.3453\n",
      "TP, TN, FP, FN: 2776 3989 2035 2576\n",
      "Sens: 51.87\n",
      "Spec: 66.22\n",
      "Prec: 57.7\n",
      "NPV: 60.76\n",
      "Accuracy: 59.47\n",
      "\n",
      "Epoch 13/500\n",
      "3451/3451 - 20s - loss: 0.5819 - accuracy: 0.6880 - f_score: 0.6685 - val_loss: 0.6953 - val_accuracy: 0.5933 - val_f_score: 0.3268\n",
      "TP, TN, FP, FN: 2632 4117 1907 2720\n",
      "Sens: 49.18\n",
      "Spec: 68.34\n",
      "Prec: 57.99\n",
      "NPV: 60.22\n",
      "Accuracy: 59.33\n",
      "\n",
      "Epoch 14/500\n",
      "3451/3451 - 20s - loss: 0.5775 - accuracy: 0.6916 - f_score: 0.6729 - val_loss: 0.7023 - val_accuracy: 0.5938 - val_f_score: 0.3245\n",
      "TP, TN, FP, FN: 2585 4170 1854 2767\n",
      "Sens: 48.3\n",
      "Spec: 69.22\n",
      "Prec: 58.23\n",
      "NPV: 60.11\n",
      "Accuracy: 59.38\n",
      "\n",
      "Epoch 15/500\n",
      "3451/3451 - 21s - loss: 0.5735 - accuracy: 0.6946 - f_score: 0.6717 - val_loss: 0.7021 - val_accuracy: 0.5912 - val_f_score: 0.3312\n",
      "TP, TN, FP, FN: 2679 4047 1977 2673\n",
      "Sens: 50.06\n",
      "Spec: 67.18\n",
      "Prec: 57.54\n",
      "NPV: 60.22\n",
      "Accuracy: 59.12\n",
      "\n",
      "Epoch 16/500\n",
      "3451/3451 - 21s - loss: 0.5693 - accuracy: 0.6976 - f_score: 0.6766 - val_loss: 0.7123 - val_accuracy: 0.5861 - val_f_score: 0.3158\n",
      "TP, TN, FP, FN: 2522 4145 1879 2830\n",
      "Sens: 47.12\n",
      "Spec: 68.81\n",
      "Prec: 57.31\n",
      "NPV: 59.43\n",
      "Accuracy: 58.61\n",
      "\n",
      "Epoch 17/500\n",
      "3451/3451 - 20s - loss: 0.5662 - accuracy: 0.7016 - f_score: 0.6787 - val_loss: 0.7077 - val_accuracy: 0.5904 - val_f_score: 0.3239\n",
      "TP, TN, FP, FN: 2609 4107 1917 2743\n",
      "Sens: 48.75\n",
      "Spec: 68.18\n",
      "Prec: 57.64\n",
      "NPV: 59.96\n",
      "Accuracy: 59.04\n",
      "\n",
      "Epoch 18/500\n",
      "3451/3451 - 21s - loss: 0.5621 - accuracy: 0.7044 - f_score: 0.6809 - val_loss: 0.7206 - val_accuracy: 0.5880 - val_f_score: 0.3417\n",
      "TP, TN, FP, FN: 2788 3901 2123 2564\n",
      "Sens: 52.09\n",
      "Spec: 64.76\n",
      "Prec: 56.77\n",
      "NPV: 60.34\n",
      "Accuracy: 58.8\n",
      "\n",
      "Epoch 19/500\n"
     ]
    },
    {
     "ename": "KeyboardInterrupt",
     "evalue": "",
     "output_type": "error",
     "traceback": [
      "\u001b[0;31m---------------------------------------------------------------------------\u001b[0m",
      "\u001b[0;31mKeyboardInterrupt\u001b[0m                         Traceback (most recent call last)",
      "\u001b[0;32m<ipython-input-87-1dd28dfb5573>\u001b[0m in \u001b[0;36m<module>\u001b[0;34m\u001b[0m\n\u001b[1;32m     12\u001b[0m           callbacks=[keras.callbacks.EarlyStopping(restore_best_weights=True, patience=10, monitor=\"val_f_score\"),\n\u001b[1;32m     13\u001b[0m                      AccuracyCallback((inputs_val_norm[:, -24:], outputs_val))],\n\u001b[0;32m---> 14\u001b[0;31m           class_weight=class_weights)\n\u001b[0m",
      "\u001b[0;32m/opt/anaconda3/envs/ml_pulseox_quality/lib/python3.7/site-packages/tensorflow/python/keras/engine/training.py\u001b[0m in \u001b[0;36mfit\u001b[0;34m(self, x, y, batch_size, epochs, verbose, callbacks, validation_split, validation_data, shuffle, class_weight, sample_weight, initial_epoch, steps_per_epoch, validation_steps, validation_batch_size, validation_freq, max_queue_size, workers, use_multiprocessing)\u001b[0m\n\u001b[1;32m   1098\u001b[0m                 _r=1):\n\u001b[1;32m   1099\u001b[0m               \u001b[0mcallbacks\u001b[0m\u001b[0;34m.\u001b[0m\u001b[0mon_train_batch_begin\u001b[0m\u001b[0;34m(\u001b[0m\u001b[0mstep\u001b[0m\u001b[0;34m)\u001b[0m\u001b[0;34m\u001b[0m\u001b[0m\n\u001b[0;32m-> 1100\u001b[0;31m               \u001b[0mtmp_logs\u001b[0m \u001b[0;34m=\u001b[0m \u001b[0mself\u001b[0m\u001b[0;34m.\u001b[0m\u001b[0mtrain_function\u001b[0m\u001b[0;34m(\u001b[0m\u001b[0miterator\u001b[0m\u001b[0;34m)\u001b[0m\u001b[0;34m\u001b[0m\u001b[0m\n\u001b[0m\u001b[1;32m   1101\u001b[0m               \u001b[0;32mif\u001b[0m \u001b[0mdata_handler\u001b[0m\u001b[0;34m.\u001b[0m\u001b[0mshould_sync\u001b[0m\u001b[0;34m:\u001b[0m\u001b[0;34m\u001b[0m\u001b[0m\n\u001b[1;32m   1102\u001b[0m                 \u001b[0mcontext\u001b[0m\u001b[0;34m.\u001b[0m\u001b[0masync_wait\u001b[0m\u001b[0;34m(\u001b[0m\u001b[0;34m)\u001b[0m\u001b[0;34m\u001b[0m\u001b[0m\n",
      "\u001b[0;32m/opt/anaconda3/envs/ml_pulseox_quality/lib/python3.7/site-packages/tensorflow/python/eager/def_function.py\u001b[0m in \u001b[0;36m__call__\u001b[0;34m(self, *args, **kwds)\u001b[0m\n\u001b[1;32m    826\u001b[0m     \u001b[0mtracing_count\u001b[0m \u001b[0;34m=\u001b[0m \u001b[0mself\u001b[0m\u001b[0;34m.\u001b[0m\u001b[0mexperimental_get_tracing_count\u001b[0m\u001b[0;34m(\u001b[0m\u001b[0;34m)\u001b[0m\u001b[0;34m\u001b[0m\u001b[0m\n\u001b[1;32m    827\u001b[0m     \u001b[0;32mwith\u001b[0m \u001b[0mtrace\u001b[0m\u001b[0;34m.\u001b[0m\u001b[0mTrace\u001b[0m\u001b[0;34m(\u001b[0m\u001b[0mself\u001b[0m\u001b[0;34m.\u001b[0m\u001b[0m_name\u001b[0m\u001b[0;34m)\u001b[0m \u001b[0;32mas\u001b[0m \u001b[0mtm\u001b[0m\u001b[0;34m:\u001b[0m\u001b[0;34m\u001b[0m\u001b[0m\n\u001b[0;32m--> 828\u001b[0;31m       \u001b[0mresult\u001b[0m \u001b[0;34m=\u001b[0m \u001b[0mself\u001b[0m\u001b[0;34m.\u001b[0m\u001b[0m_call\u001b[0m\u001b[0;34m(\u001b[0m\u001b[0;34m*\u001b[0m\u001b[0margs\u001b[0m\u001b[0;34m,\u001b[0m \u001b[0;34m**\u001b[0m\u001b[0mkwds\u001b[0m\u001b[0;34m)\u001b[0m\u001b[0;34m\u001b[0m\u001b[0m\n\u001b[0m\u001b[1;32m    829\u001b[0m       \u001b[0mcompiler\u001b[0m \u001b[0;34m=\u001b[0m \u001b[0;34m\"xla\"\u001b[0m \u001b[0;32mif\u001b[0m \u001b[0mself\u001b[0m\u001b[0;34m.\u001b[0m\u001b[0m_experimental_compile\u001b[0m \u001b[0;32melse\u001b[0m \u001b[0;34m\"nonXla\"\u001b[0m\u001b[0;34m\u001b[0m\u001b[0m\n\u001b[1;32m    830\u001b[0m       \u001b[0mnew_tracing_count\u001b[0m \u001b[0;34m=\u001b[0m \u001b[0mself\u001b[0m\u001b[0;34m.\u001b[0m\u001b[0mexperimental_get_tracing_count\u001b[0m\u001b[0;34m(\u001b[0m\u001b[0;34m)\u001b[0m\u001b[0;34m\u001b[0m\u001b[0m\n",
      "\u001b[0;32m/opt/anaconda3/envs/ml_pulseox_quality/lib/python3.7/site-packages/tensorflow/python/eager/def_function.py\u001b[0m in \u001b[0;36m_call\u001b[0;34m(self, *args, **kwds)\u001b[0m\n\u001b[1;32m    853\u001b[0m       \u001b[0;31m# In this case we have created variables on the first call, so we run the\u001b[0m\u001b[0;34m\u001b[0m\u001b[0;34m\u001b[0m\u001b[0m\n\u001b[1;32m    854\u001b[0m       \u001b[0;31m# defunned version which is guaranteed to never create variables.\u001b[0m\u001b[0;34m\u001b[0m\u001b[0;34m\u001b[0m\u001b[0m\n\u001b[0;32m--> 855\u001b[0;31m       \u001b[0;32mreturn\u001b[0m \u001b[0mself\u001b[0m\u001b[0;34m.\u001b[0m\u001b[0m_stateless_fn\u001b[0m\u001b[0;34m(\u001b[0m\u001b[0;34m*\u001b[0m\u001b[0margs\u001b[0m\u001b[0;34m,\u001b[0m \u001b[0;34m**\u001b[0m\u001b[0mkwds\u001b[0m\u001b[0;34m)\u001b[0m  \u001b[0;31m# pylint: disable=not-callable\u001b[0m\u001b[0;34m\u001b[0m\u001b[0m\n\u001b[0m\u001b[1;32m    856\u001b[0m     \u001b[0;32melif\u001b[0m \u001b[0mself\u001b[0m\u001b[0;34m.\u001b[0m\u001b[0m_stateful_fn\u001b[0m \u001b[0;32mis\u001b[0m \u001b[0;32mnot\u001b[0m \u001b[0;32mNone\u001b[0m\u001b[0;34m:\u001b[0m\u001b[0;34m\u001b[0m\u001b[0m\n\u001b[1;32m    857\u001b[0m       \u001b[0;31m# Release the lock early so that multiple threads can perform the call\u001b[0m\u001b[0;34m\u001b[0m\u001b[0;34m\u001b[0m\u001b[0m\n",
      "\u001b[0;32m/opt/anaconda3/envs/ml_pulseox_quality/lib/python3.7/site-packages/tensorflow/python/eager/function.py\u001b[0m in \u001b[0;36m__call__\u001b[0;34m(self, *args, **kwargs)\u001b[0m\n\u001b[1;32m   2939\u001b[0m     \u001b[0;32mwith\u001b[0m \u001b[0mself\u001b[0m\u001b[0;34m.\u001b[0m\u001b[0m_lock\u001b[0m\u001b[0;34m:\u001b[0m\u001b[0;34m\u001b[0m\u001b[0m\n\u001b[1;32m   2940\u001b[0m       (graph_function,\n\u001b[0;32m-> 2941\u001b[0;31m        filtered_flat_args) = self._maybe_define_function(args, kwargs)\n\u001b[0m\u001b[1;32m   2942\u001b[0m     return graph_function._call_flat(\n\u001b[1;32m   2943\u001b[0m         filtered_flat_args, captured_inputs=graph_function.captured_inputs)  # pylint: disable=protected-access\n",
      "\u001b[0;32m/opt/anaconda3/envs/ml_pulseox_quality/lib/python3.7/site-packages/tensorflow/python/eager/function.py\u001b[0m in \u001b[0;36m_maybe_define_function\u001b[0;34m(self, args, kwargs)\u001b[0m\n\u001b[1;32m   3312\u001b[0m     \u001b[0;32mif\u001b[0m \u001b[0mself\u001b[0m\u001b[0;34m.\u001b[0m\u001b[0minput_signature\u001b[0m \u001b[0;32mis\u001b[0m \u001b[0;32mNone\u001b[0m \u001b[0;32mor\u001b[0m \u001b[0margs\u001b[0m \u001b[0;32mis\u001b[0m \u001b[0;32mnot\u001b[0m \u001b[0;32mNone\u001b[0m \u001b[0;32mor\u001b[0m \u001b[0mkwargs\u001b[0m \u001b[0;32mis\u001b[0m \u001b[0;32mnot\u001b[0m \u001b[0;32mNone\u001b[0m\u001b[0;34m:\u001b[0m\u001b[0;34m\u001b[0m\u001b[0m\n\u001b[1;32m   3313\u001b[0m       \u001b[0margs\u001b[0m\u001b[0;34m,\u001b[0m \u001b[0mkwargs\u001b[0m\u001b[0;34m,\u001b[0m \u001b[0mflat_args\u001b[0m\u001b[0;34m,\u001b[0m \u001b[0mfiltered_flat_args\u001b[0m \u001b[0;34m=\u001b[0m\u001b[0;31m \u001b[0m\u001b[0;31m\\\u001b[0m\u001b[0;34m\u001b[0m\u001b[0m\n\u001b[0;32m-> 3314\u001b[0;31m           \u001b[0mself\u001b[0m\u001b[0;34m.\u001b[0m\u001b[0m_function_spec\u001b[0m\u001b[0;34m.\u001b[0m\u001b[0mcanonicalize_function_inputs\u001b[0m\u001b[0;34m(\u001b[0m\u001b[0;34m*\u001b[0m\u001b[0margs\u001b[0m\u001b[0;34m,\u001b[0m \u001b[0;34m**\u001b[0m\u001b[0mkwargs\u001b[0m\u001b[0;34m)\u001b[0m\u001b[0;34m\u001b[0m\u001b[0m\n\u001b[0m\u001b[1;32m   3315\u001b[0m     \u001b[0;32melse\u001b[0m\u001b[0;34m:\u001b[0m\u001b[0;34m\u001b[0m\u001b[0m\n\u001b[1;32m   3316\u001b[0m       \u001b[0mflat_args\u001b[0m\u001b[0;34m,\u001b[0m \u001b[0mfiltered_flat_args\u001b[0m \u001b[0;34m=\u001b[0m \u001b[0;34m[\u001b[0m\u001b[0;32mNone\u001b[0m\u001b[0;34m]\u001b[0m\u001b[0;34m,\u001b[0m \u001b[0;34m[\u001b[0m\u001b[0;34m]\u001b[0m\u001b[0;34m\u001b[0m\u001b[0m\n",
      "\u001b[0;32m/opt/anaconda3/envs/ml_pulseox_quality/lib/python3.7/site-packages/tensorflow/python/eager/function.py\u001b[0m in \u001b[0;36mcanonicalize_function_inputs\u001b[0;34m(self, *args, **kwargs)\u001b[0m\n\u001b[1;32m   2695\u001b[0m \u001b[0;34m\u001b[0m\u001b[0m\n\u001b[1;32m   2696\u001b[0m     \u001b[0;32mif\u001b[0m \u001b[0mself\u001b[0m\u001b[0;34m.\u001b[0m\u001b[0m_input_signature\u001b[0m \u001b[0;32mis\u001b[0m \u001b[0;32mNone\u001b[0m\u001b[0;34m:\u001b[0m\u001b[0;34m\u001b[0m\u001b[0m\n\u001b[0;32m-> 2697\u001b[0;31m       \u001b[0minputs\u001b[0m\u001b[0;34m,\u001b[0m \u001b[0mflat_inputs\u001b[0m\u001b[0;34m,\u001b[0m \u001b[0mfiltered_flat_inputs\u001b[0m \u001b[0;34m=\u001b[0m \u001b[0m_convert_numpy_inputs\u001b[0m\u001b[0;34m(\u001b[0m\u001b[0minputs\u001b[0m\u001b[0;34m)\u001b[0m\u001b[0;34m\u001b[0m\u001b[0m\n\u001b[0m\u001b[1;32m   2698\u001b[0m       \u001b[0mkwargs\u001b[0m\u001b[0;34m,\u001b[0m \u001b[0mflat_kwargs\u001b[0m\u001b[0;34m,\u001b[0m \u001b[0mfiltered_flat_kwargs\u001b[0m \u001b[0;34m=\u001b[0m \u001b[0m_convert_numpy_inputs\u001b[0m\u001b[0;34m(\u001b[0m\u001b[0mkwargs\u001b[0m\u001b[0;34m)\u001b[0m\u001b[0;34m\u001b[0m\u001b[0m\n\u001b[1;32m   2699\u001b[0m       return (inputs, kwargs, flat_inputs + flat_kwargs,\n",
      "\u001b[0;32m/opt/anaconda3/envs/ml_pulseox_quality/lib/python3.7/site-packages/tensorflow/python/eager/function.py\u001b[0m in \u001b[0;36m_convert_numpy_inputs\u001b[0;34m(inputs)\u001b[0m\n\u001b[1;32m   2735\u001b[0m   \u001b[0;31m# are eventually passed to ConcreteFunction()._call_flat, which requires\u001b[0m\u001b[0;34m\u001b[0m\u001b[0;34m\u001b[0m\u001b[0m\n\u001b[1;32m   2736\u001b[0m   \u001b[0;31m# expanded composites.\u001b[0m\u001b[0;34m\u001b[0m\u001b[0;34m\u001b[0m\u001b[0m\n\u001b[0;32m-> 2737\u001b[0;31m   \u001b[0mflat_inputs\u001b[0m \u001b[0;34m=\u001b[0m \u001b[0mnest\u001b[0m\u001b[0;34m.\u001b[0m\u001b[0mflatten\u001b[0m\u001b[0;34m(\u001b[0m\u001b[0minputs\u001b[0m\u001b[0;34m,\u001b[0m \u001b[0mexpand_composites\u001b[0m\u001b[0;34m=\u001b[0m\u001b[0;32mTrue\u001b[0m\u001b[0;34m)\u001b[0m\u001b[0;34m\u001b[0m\u001b[0m\n\u001b[0m\u001b[1;32m   2738\u001b[0m \u001b[0;34m\u001b[0m\u001b[0m\n\u001b[1;32m   2739\u001b[0m   \u001b[0;31m# Check for NumPy arrays in arguments and convert them to Tensors.\u001b[0m\u001b[0;34m\u001b[0m\u001b[0;34m\u001b[0m\u001b[0m\n",
      "\u001b[0;32m/opt/anaconda3/envs/ml_pulseox_quality/lib/python3.7/site-packages/tensorflow/python/util/nest.py\u001b[0m in \u001b[0;36mflatten\u001b[0;34m(structure, expand_composites)\u001b[0m\n\u001b[1;32m    339\u001b[0m     \u001b[0;32mreturn\u001b[0m \u001b[0;34m[\u001b[0m\u001b[0;32mNone\u001b[0m\u001b[0;34m]\u001b[0m\u001b[0;34m\u001b[0m\u001b[0m\n\u001b[1;32m    340\u001b[0m   \u001b[0mexpand_composites\u001b[0m \u001b[0;34m=\u001b[0m \u001b[0mbool\u001b[0m\u001b[0;34m(\u001b[0m\u001b[0mexpand_composites\u001b[0m\u001b[0;34m)\u001b[0m\u001b[0;34m\u001b[0m\u001b[0m\n\u001b[0;32m--> 341\u001b[0;31m   \u001b[0;32mreturn\u001b[0m \u001b[0m_pywrap_utils\u001b[0m\u001b[0;34m.\u001b[0m\u001b[0mFlatten\u001b[0m\u001b[0;34m(\u001b[0m\u001b[0mstructure\u001b[0m\u001b[0;34m,\u001b[0m \u001b[0mexpand_composites\u001b[0m\u001b[0;34m)\u001b[0m\u001b[0;34m\u001b[0m\u001b[0m\n\u001b[0m\u001b[1;32m    342\u001b[0m \u001b[0;34m\u001b[0m\u001b[0m\n\u001b[1;32m    343\u001b[0m \u001b[0;34m\u001b[0m\u001b[0m\n",
      "\u001b[0;32m/opt/anaconda3/envs/ml_pulseox_quality/lib/python3.7/site-packages/tensorflow/python/data/ops/iterator_ops.py\u001b[0m in \u001b[0;36m_type_spec\u001b[0;34m(self)\u001b[0m\n\u001b[1;32m    739\u001b[0m         \u001b[0;32mreturn\u001b[0m \u001b[0mstructure\u001b[0m\u001b[0;34m.\u001b[0m\u001b[0mfrom_compatible_tensor_list\u001b[0m\u001b[0;34m(\u001b[0m\u001b[0mself\u001b[0m\u001b[0;34m.\u001b[0m\u001b[0m_element_spec\u001b[0m\u001b[0;34m,\u001b[0m \u001b[0mret\u001b[0m\u001b[0;34m)\u001b[0m\u001b[0;34m\u001b[0m\u001b[0m\n\u001b[1;32m    740\u001b[0m \u001b[0;34m\u001b[0m\u001b[0m\n\u001b[0;32m--> 741\u001b[0;31m   \u001b[0;34m@\u001b[0m\u001b[0mproperty\u001b[0m\u001b[0;34m\u001b[0m\u001b[0m\n\u001b[0m\u001b[1;32m    742\u001b[0m   \u001b[0;32mdef\u001b[0m \u001b[0m_type_spec\u001b[0m\u001b[0;34m(\u001b[0m\u001b[0mself\u001b[0m\u001b[0;34m)\u001b[0m\u001b[0;34m:\u001b[0m\u001b[0;34m\u001b[0m\u001b[0m\n\u001b[1;32m    743\u001b[0m     \u001b[0;32mreturn\u001b[0m \u001b[0mIteratorSpec\u001b[0m\u001b[0;34m(\u001b[0m\u001b[0mself\u001b[0m\u001b[0;34m.\u001b[0m\u001b[0melement_spec\u001b[0m\u001b[0;34m)\u001b[0m\u001b[0;34m\u001b[0m\u001b[0m\n",
      "\u001b[0;31mKeyboardInterrupt\u001b[0m: "
     ]
    }
   ],
   "source": [
    "model = keras.models.Sequential(\n",
    "    [\n",
    "        keras.layers.LSTM(32, name=\"lstm_initial\", input_shape=(None, 1)),\n",
    "        keras.layers.Dense(1, name=\"dense_final\", activation=\"sigmoid\"),\n",
    "    ]\n",
    ")\n",
    "\n",
    "optimizer = keras.optimizers.Adam(lr=1e-3)\n",
    "model.compile(optimizer=optimizer, loss=\"binary_crossentropy\", metrics=[\"accuracy\", f_score])\n",
    "model.fit(inputs_train_norm[:, -24:], outputs_train, validation_data=(inputs_val_norm[:, -24:], outputs_val),\n",
    "          batch_size=32, epochs=500, verbose=2,\n",
    "          callbacks=[keras.callbacks.EarlyStopping(restore_best_weights=True, patience=10, monitor=\"val_f_score\"),\n",
    "                     AccuracyCallback((inputs_val_norm[:, -24:], outputs_val))],\n",
    "          class_weight=class_weights)\n"
   ]
  },
  {
   "cell_type": "code",
   "execution_count": 88,
   "metadata": {},
   "outputs": [
    {
     "name": "stdout",
     "output_type": "stream",
     "text": [
      "2974/2974 - 4s - loss: 0.6663 - accuracy: 0.6352 - f_score: 0.3689\n"
     ]
    },
    {
     "data": {
      "text/plain": [
       "[0.666278600692749, 0.6352476477622986, 0.36888834834098816]"
      ]
     },
     "execution_count": 88,
     "metadata": {},
     "output_type": "execute_result"
    }
   ],
   "source": [
    "model.evaluate(inputs_test_norm[:, -24:], outputs_test, verbose=2)"
   ]
  },
  {
   "cell_type": "markdown",
   "metadata": {},
   "source": [
    "### Non-Normalized"
   ]
  },
  {
   "cell_type": "code",
   "execution_count": null,
   "metadata": {
    "scrolled": true
   },
   "outputs": [],
   "source": [
    "# model = keras.models.Sequential(\n",
    "#     [\n",
    "#         keras.layers.LSTM(32, name=\"lstm_initial\", input_shape=(None, 1)),\n",
    "#         keras.layers.Dense(1, name=\"dense_final\", activation=\"sigmoid\"),\n",
    "#     ]\n",
    "# )\n",
    "\n",
    "# optimizer = keras.optimizers.Adam(lr=1e-3)\n",
    "# model.compile(optimizer=optimizer, loss=\"binary_crossentropy\", metrics=[\"accuracy\"])\n",
    "# model.fit(inputs_train, outputs_train, validation_data=(inputs_val, outputs_val),\n",
    "#           batch_size=32, epochs=500, verbose=2,\n",
    "#           callbacks=[keras.callbacks.EarlyStopping(restore_best_weights=True, patience=10),\n",
    "#                      AccuracyCallback((inputs_val, outputs_val))],\n",
    "#           class_weight=class_weights)\n"
   ]
  },
  {
   "cell_type": "code",
   "execution_count": null,
   "metadata": {},
   "outputs": [],
   "source": [
    "# model.evaluate(inputs_test, outputs_test, verbose=2)"
   ]
  },
  {
   "cell_type": "markdown",
   "metadata": {},
   "source": [
    "### Larger"
   ]
  },
  {
   "cell_type": "code",
   "execution_count": null,
   "metadata": {
    "scrolled": true
   },
   "outputs": [],
   "source": [
    "# i = 100\n",
    "\n",
    "# model = keras.models.Sequential(\n",
    "#     [\n",
    "#         keras.layers.LSTM(16, input_shape=(None, 1), return_sequences=True),\n",
    "#         keras.layers.LSTM(32),\n",
    "#         keras.layers.Dense(64, activation=\"relu\"),\n",
    "#         keras.layers.Dense(1, activation=\"sigmoid\")\n",
    "#     ]\n",
    "# )\n",
    "\n",
    "# optimizer = keras.optimizers.Adam(lr=1e-3)\n",
    "# model.compile(optimizer=optimizer, loss=\"binary_crossentropy\", metrics=[\"accuracy\"])\n",
    "# model.fit(inputs_train_norm[:, -i:], outputs_train, validation_data=(inputs_val_norm[:, -i:], outputs_val),\n",
    "#           batch_size=32, epochs=500, verbose=2,\n",
    "#           callbacks=[keras.callbacks.EarlyStopping(restore_best_weights=True, patience=10),\n",
    "#                      AccuracyCallback((inputs_val_norm[:, -i:], outputs_val))],\n",
    "#           class_weight=class_weights)\n"
   ]
  },
  {
   "cell_type": "markdown",
   "metadata": {},
   "source": [
    "## With Reg"
   ]
  },
  {
   "cell_type": "code",
   "execution_count": null,
   "metadata": {
    "scrolled": true
   },
   "outputs": [],
   "source": [
    "# i = 24\n",
    "\n",
    "# model = keras.models.Sequential(\n",
    "#     [\n",
    "#         keras.layers.LSTM(16, input_shape=(None, 1), return_sequences=True, recurrent_dropout=0.2),\n",
    "#         keras.layers.LSTM(32, recurrent_dropout=0.2),\n",
    "#         keras.layers.Dense(64, activation=\"relu\"),\n",
    "#         keras.layers.Dropout(0.2),\n",
    "#         keras.layers.Dense(1, activation=\"sigmoid\")\n",
    "#     ]\n",
    "# )\n",
    "\n",
    "# optimizer = keras.optimizers.Adam(lr=1e-3)\n",
    "# model.compile(optimizer=optimizer, loss=\"binary_crossentropy\", metrics=[\"accuracy\"])\n",
    "# model.fit(inputs_train_norm[:, -i:], outputs_train, validation_data=(inputs_val_norm[:, -i:], outputs_val),\n",
    "#           batch_size=32, epochs=500, verbose=2,\n",
    "#           callbacks=[keras.callbacks.EarlyStopping(restore_best_weights=True, patience=20),\n",
    "#                      AccuracyCallback((inputs_val_norm[:, -i:], outputs_val))],\n",
    "#           class_weight=class_weights)\n"
   ]
  },
  {
   "cell_type": "markdown",
   "metadata": {},
   "source": [
    "### TO DO"
   ]
  },
  {
   "cell_type": "code",
   "execution_count": null,
   "metadata": {},
   "outputs": [],
   "source": [
    "# Set up and run AnEn + SVM baselines"
   ]
  }
 ],
 "metadata": {
  "kernelspec": {
   "display_name": "Python 3",
   "language": "python",
   "name": "python3"
  },
  "language_info": {
   "codemirror_mode": {
    "name": "ipython",
    "version": 3
   },
   "file_extension": ".py",
   "mimetype": "text/x-python",
   "name": "python",
   "nbconvert_exporter": "python",
   "pygments_lexer": "ipython3",
   "version": "3.7.0"
  }
 },
 "nbformat": 4,
 "nbformat_minor": 4
}
