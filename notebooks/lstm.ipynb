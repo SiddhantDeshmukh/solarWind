{
 "cells": [
  {
   "cell_type": "code",
   "execution_count": 112,
   "metadata": {},
   "outputs": [],
   "source": [
    "from datetime import datetime\n",
    "import os\n",
    "\n",
    "import heliopy.data.omni as omni\n",
    "from matplotlib import pyplot as plt\n",
    "import numpy as np\n",
    "from sklearn.model_selection import train_test_split\n",
    "from tensorflow import keras"
   ]
  },
  {
   "cell_type": "code",
   "execution_count": 131,
   "metadata": {},
   "outputs": [],
   "source": [
    "START_TIME = datetime(1995, 1, 1)\n",
    "END_TIME = datetime(2018, 2, 28)\n",
    "\n",
    "INPUT_LENGTH = 24"
   ]
  },
  {
   "cell_type": "markdown",
   "metadata": {},
   "source": [
    "### Load in data"
   ]
  },
  {
   "cell_type": "code",
   "execution_count": 132,
   "metadata": {},
   "outputs": [],
   "source": [
    "def get_omni_rtn_data(start_time, end_time):\n",
    "    identifier = 'OMNI_COHO1HR_MERGED_MAG_PLASMA'  # COHO 1HR data\n",
    "    omni_data = omni._omni(start_time, end_time, identifier=identifier, intervals='yearly', warn_missing_units=False)\n",
    "    return omni_data"
   ]
  },
  {
   "cell_type": "code",
   "execution_count": 133,
   "metadata": {
    "scrolled": true
   },
   "outputs": [
    {
     "name": "stdout",
     "output_type": "stream",
     "text": [
      "Downloading OMNI_COHO1HR_MERGED_MAG_PLASMA for interval 1995-01-01 00:00:00 - 1996-01-01 00:00:00\n"
     ]
    },
    {
     "data": {
      "application/vnd.jupyter.widget-view+json": {
       "model_id": "c613ab8f68b549a5a19daea64fd9ca40",
       "version_major": 2,
       "version_minor": 0
      },
      "text/plain": [
       "HBox(children=(FloatProgress(value=1.0, bar_style='info', max=1.0), HTML(value='')))"
      ]
     },
     "metadata": {},
     "output_type": "display_data"
    },
    {
     "name": "stdout",
     "output_type": "stream",
     "text": [
      "\n",
      "Downloading OMNI_COHO1HR_MERGED_MAG_PLASMA for interval 1996-01-01 00:00:00 - 1997-01-01 00:00:00\n"
     ]
    },
    {
     "data": {
      "application/vnd.jupyter.widget-view+json": {
       "model_id": "a4abc3736f834c8bb7a6419912fc84a1",
       "version_major": 2,
       "version_minor": 0
      },
      "text/plain": [
       "HBox(children=(FloatProgress(value=1.0, bar_style='info', max=1.0), HTML(value='')))"
      ]
     },
     "metadata": {},
     "output_type": "display_data"
    },
    {
     "name": "stdout",
     "output_type": "stream",
     "text": [
      "\n",
      "Downloading OMNI_COHO1HR_MERGED_MAG_PLASMA for interval 1997-01-01 00:00:00 - 1998-01-01 00:00:00\n"
     ]
    },
    {
     "data": {
      "application/vnd.jupyter.widget-view+json": {
       "model_id": "1293d8af97294dafa2ee1d65f58fd3c6",
       "version_major": 2,
       "version_minor": 0
      },
      "text/plain": [
       "HBox(children=(FloatProgress(value=1.0, bar_style='info', max=1.0), HTML(value='')))"
      ]
     },
     "metadata": {},
     "output_type": "display_data"
    },
    {
     "name": "stdout",
     "output_type": "stream",
     "text": [
      "\n",
      "Downloading OMNI_COHO1HR_MERGED_MAG_PLASMA for interval 1998-01-01 00:00:00 - 1999-01-01 00:00:00\n"
     ]
    },
    {
     "data": {
      "application/vnd.jupyter.widget-view+json": {
       "model_id": "3f981652d0844626b890e5d892304404",
       "version_major": 2,
       "version_minor": 0
      },
      "text/plain": [
       "HBox(children=(FloatProgress(value=1.0, bar_style='info', max=1.0), HTML(value='')))"
      ]
     },
     "metadata": {},
     "output_type": "display_data"
    },
    {
     "name": "stdout",
     "output_type": "stream",
     "text": [
      "\n",
      "Downloading OMNI_COHO1HR_MERGED_MAG_PLASMA for interval 1999-01-01 00:00:00 - 2000-01-01 00:00:00\n"
     ]
    },
    {
     "data": {
      "application/vnd.jupyter.widget-view+json": {
       "model_id": "baef092fe74e48f6a18da3ed02101ff0",
       "version_major": 2,
       "version_minor": 0
      },
      "text/plain": [
       "HBox(children=(FloatProgress(value=1.0, bar_style='info', max=1.0), HTML(value='')))"
      ]
     },
     "metadata": {},
     "output_type": "display_data"
    },
    {
     "name": "stdout",
     "output_type": "stream",
     "text": [
      "\n",
      "Downloading OMNI_COHO1HR_MERGED_MAG_PLASMA for interval 2000-01-01 00:00:00 - 2001-01-01 00:00:00\n"
     ]
    },
    {
     "data": {
      "application/vnd.jupyter.widget-view+json": {
       "model_id": "74861b730932421086d81fa894f4f8af",
       "version_major": 2,
       "version_minor": 0
      },
      "text/plain": [
       "HBox(children=(FloatProgress(value=1.0, bar_style='info', max=1.0), HTML(value='')))"
      ]
     },
     "metadata": {},
     "output_type": "display_data"
    },
    {
     "name": "stdout",
     "output_type": "stream",
     "text": [
      "\n",
      "Downloading OMNI_COHO1HR_MERGED_MAG_PLASMA for interval 2001-01-01 00:00:00 - 2002-01-01 00:00:00\n"
     ]
    },
    {
     "data": {
      "application/vnd.jupyter.widget-view+json": {
       "model_id": "68a4520394254005aee1f435a7969710",
       "version_major": 2,
       "version_minor": 0
      },
      "text/plain": [
       "HBox(children=(FloatProgress(value=1.0, bar_style='info', max=1.0), HTML(value='')))"
      ]
     },
     "metadata": {},
     "output_type": "display_data"
    },
    {
     "name": "stdout",
     "output_type": "stream",
     "text": [
      "\n",
      "Downloading OMNI_COHO1HR_MERGED_MAG_PLASMA for interval 2002-01-01 00:00:00 - 2003-01-01 00:00:00\n"
     ]
    },
    {
     "data": {
      "application/vnd.jupyter.widget-view+json": {
       "model_id": "78e07af0af3e49948406235d4f6547fc",
       "version_major": 2,
       "version_minor": 0
      },
      "text/plain": [
       "HBox(children=(FloatProgress(value=1.0, bar_style='info', max=1.0), HTML(value='')))"
      ]
     },
     "metadata": {},
     "output_type": "display_data"
    },
    {
     "name": "stdout",
     "output_type": "stream",
     "text": [
      "\n",
      "Downloading OMNI_COHO1HR_MERGED_MAG_PLASMA for interval 2003-01-01 00:00:00 - 2004-01-01 00:00:00\n"
     ]
    },
    {
     "data": {
      "application/vnd.jupyter.widget-view+json": {
       "model_id": "cada89e1a0fb4f3eb9ed6cade354e33c",
       "version_major": 2,
       "version_minor": 0
      },
      "text/plain": [
       "HBox(children=(FloatProgress(value=1.0, bar_style='info', max=1.0), HTML(value='')))"
      ]
     },
     "metadata": {},
     "output_type": "display_data"
    },
    {
     "name": "stdout",
     "output_type": "stream",
     "text": [
      "\n",
      "Downloading OMNI_COHO1HR_MERGED_MAG_PLASMA for interval 2004-01-01 00:00:00 - 2005-01-01 00:00:00\n"
     ]
    },
    {
     "data": {
      "application/vnd.jupyter.widget-view+json": {
       "model_id": "7fbe5f7b4ab74d6b93a8e1012b6acc38",
       "version_major": 2,
       "version_minor": 0
      },
      "text/plain": [
       "HBox(children=(FloatProgress(value=1.0, bar_style='info', max=1.0), HTML(value='')))"
      ]
     },
     "metadata": {},
     "output_type": "display_data"
    },
    {
     "name": "stdout",
     "output_type": "stream",
     "text": [
      "\n",
      "Downloading OMNI_COHO1HR_MERGED_MAG_PLASMA for interval 2005-01-01 00:00:00 - 2006-01-01 00:00:00\n"
     ]
    },
    {
     "data": {
      "application/vnd.jupyter.widget-view+json": {
       "model_id": "e35564ccfbbe45589720d2d12560bfac",
       "version_major": 2,
       "version_minor": 0
      },
      "text/plain": [
       "HBox(children=(FloatProgress(value=1.0, bar_style='info', max=1.0), HTML(value='')))"
      ]
     },
     "metadata": {},
     "output_type": "display_data"
    },
    {
     "name": "stdout",
     "output_type": "stream",
     "text": [
      "\n",
      "Downloading OMNI_COHO1HR_MERGED_MAG_PLASMA for interval 2006-01-01 00:00:00 - 2007-01-01 00:00:00\n"
     ]
    },
    {
     "data": {
      "application/vnd.jupyter.widget-view+json": {
       "model_id": "ed508466582d40e4bb62b509d0406d9c",
       "version_major": 2,
       "version_minor": 0
      },
      "text/plain": [
       "HBox(children=(FloatProgress(value=1.0, bar_style='info', max=1.0), HTML(value='')))"
      ]
     },
     "metadata": {},
     "output_type": "display_data"
    },
    {
     "name": "stdout",
     "output_type": "stream",
     "text": [
      "\n",
      "Downloading OMNI_COHO1HR_MERGED_MAG_PLASMA for interval 2007-01-01 00:00:00 - 2008-01-01 00:00:00\n"
     ]
    },
    {
     "data": {
      "application/vnd.jupyter.widget-view+json": {
       "model_id": "1a2c8db253fa441497e9629b0ed8ee3a",
       "version_major": 2,
       "version_minor": 0
      },
      "text/plain": [
       "HBox(children=(FloatProgress(value=1.0, bar_style='info', max=1.0), HTML(value='')))"
      ]
     },
     "metadata": {},
     "output_type": "display_data"
    },
    {
     "name": "stdout",
     "output_type": "stream",
     "text": [
      "\n",
      "Downloading OMNI_COHO1HR_MERGED_MAG_PLASMA for interval 2008-01-01 00:00:00 - 2009-01-01 00:00:00\n"
     ]
    },
    {
     "data": {
      "application/vnd.jupyter.widget-view+json": {
       "model_id": "b6754e6dafbe43e692e20109b07b6627",
       "version_major": 2,
       "version_minor": 0
      },
      "text/plain": [
       "HBox(children=(FloatProgress(value=1.0, bar_style='info', max=1.0), HTML(value='')))"
      ]
     },
     "metadata": {},
     "output_type": "display_data"
    },
    {
     "name": "stdout",
     "output_type": "stream",
     "text": [
      "\n",
      "Downloading OMNI_COHO1HR_MERGED_MAG_PLASMA for interval 2009-01-01 00:00:00 - 2010-01-01 00:00:00\n"
     ]
    },
    {
     "data": {
      "application/vnd.jupyter.widget-view+json": {
       "model_id": "38288df730d94fdaac4d844330002dca",
       "version_major": 2,
       "version_minor": 0
      },
      "text/plain": [
       "HBox(children=(FloatProgress(value=1.0, bar_style='info', max=1.0), HTML(value='')))"
      ]
     },
     "metadata": {},
     "output_type": "display_data"
    },
    {
     "name": "stdout",
     "output_type": "stream",
     "text": [
      "\n",
      "Downloading OMNI_COHO1HR_MERGED_MAG_PLASMA for interval 2010-01-01 00:00:00 - 2011-01-01 00:00:00\n"
     ]
    },
    {
     "data": {
      "application/vnd.jupyter.widget-view+json": {
       "model_id": "25b4df69b471458fabfbced3ef60f6ae",
       "version_major": 2,
       "version_minor": 0
      },
      "text/plain": [
       "HBox(children=(FloatProgress(value=1.0, bar_style='info', max=1.0), HTML(value='')))"
      ]
     },
     "metadata": {},
     "output_type": "display_data"
    },
    {
     "name": "stdout",
     "output_type": "stream",
     "text": [
      "\n",
      "Downloading OMNI_COHO1HR_MERGED_MAG_PLASMA for interval 2011-01-01 00:00:00 - 2012-01-01 00:00:00\n"
     ]
    },
    {
     "data": {
      "application/vnd.jupyter.widget-view+json": {
       "model_id": "6a1675f310b943ddb28ac0a1c35eba76",
       "version_major": 2,
       "version_minor": 0
      },
      "text/plain": [
       "HBox(children=(FloatProgress(value=1.0, bar_style='info', max=1.0), HTML(value='')))"
      ]
     },
     "metadata": {},
     "output_type": "display_data"
    },
    {
     "name": "stdout",
     "output_type": "stream",
     "text": [
      "\n",
      "Downloading OMNI_COHO1HR_MERGED_MAG_PLASMA for interval 2012-01-01 00:00:00 - 2013-01-01 00:00:00\n"
     ]
    },
    {
     "data": {
      "application/vnd.jupyter.widget-view+json": {
       "model_id": "6adeb8237e12495abe612695e84d12b0",
       "version_major": 2,
       "version_minor": 0
      },
      "text/plain": [
       "HBox(children=(FloatProgress(value=1.0, bar_style='info', max=1.0), HTML(value='')))"
      ]
     },
     "metadata": {},
     "output_type": "display_data"
    },
    {
     "name": "stdout",
     "output_type": "stream",
     "text": [
      "\n",
      "Downloading OMNI_COHO1HR_MERGED_MAG_PLASMA for interval 2013-01-01 00:00:00 - 2014-01-01 00:00:00\n"
     ]
    },
    {
     "data": {
      "application/vnd.jupyter.widget-view+json": {
       "model_id": "21462ea8bd06423a8deb8c8cdf9f4aa4",
       "version_major": 2,
       "version_minor": 0
      },
      "text/plain": [
       "HBox(children=(FloatProgress(value=1.0, bar_style='info', max=1.0), HTML(value='')))"
      ]
     },
     "metadata": {},
     "output_type": "display_data"
    },
    {
     "name": "stdout",
     "output_type": "stream",
     "text": [
      "\n",
      "Downloading OMNI_COHO1HR_MERGED_MAG_PLASMA for interval 2014-01-01 00:00:00 - 2015-01-01 00:00:00\n"
     ]
    },
    {
     "data": {
      "application/vnd.jupyter.widget-view+json": {
       "model_id": "5ccf2e4b9e1941eabcf901457bc5387f",
       "version_major": 2,
       "version_minor": 0
      },
      "text/plain": [
       "HBox(children=(FloatProgress(value=1.0, bar_style='info', max=1.0), HTML(value='')))"
      ]
     },
     "metadata": {},
     "output_type": "display_data"
    },
    {
     "name": "stdout",
     "output_type": "stream",
     "text": [
      "\n",
      "Downloading OMNI_COHO1HR_MERGED_MAG_PLASMA for interval 2015-01-01 00:00:00 - 2016-01-01 00:00:00\n"
     ]
    },
    {
     "data": {
      "application/vnd.jupyter.widget-view+json": {
       "model_id": "6d96f547f3c8430c9124b488f96ef987",
       "version_major": 2,
       "version_minor": 0
      },
      "text/plain": [
       "HBox(children=(FloatProgress(value=1.0, bar_style='info', max=1.0), HTML(value='')))"
      ]
     },
     "metadata": {},
     "output_type": "display_data"
    },
    {
     "name": "stdout",
     "output_type": "stream",
     "text": [
      "\n",
      "Downloading OMNI_COHO1HR_MERGED_MAG_PLASMA for interval 2016-01-01 00:00:00 - 2017-01-01 00:00:00\n"
     ]
    },
    {
     "data": {
      "application/vnd.jupyter.widget-view+json": {
       "model_id": "77f42a6b2738445a982ed957a5420d61",
       "version_major": 2,
       "version_minor": 0
      },
      "text/plain": [
       "HBox(children=(FloatProgress(value=1.0, bar_style='info', max=1.0), HTML(value='')))"
      ]
     },
     "metadata": {},
     "output_type": "display_data"
    },
    {
     "name": "stdout",
     "output_type": "stream",
     "text": [
      "\n"
     ]
    }
   ],
   "source": [
    "data = get_omni_rtn_data(START_TIME, END_TIME).to_dataframe()"
   ]
  },
  {
   "cell_type": "code",
   "execution_count": 139,
   "metadata": {},
   "outputs": [],
   "source": [
    "mag_field_strength = np.array(data[\"BR\"])"
   ]
  },
  {
   "cell_type": "markdown",
   "metadata": {},
   "source": [
    "### Split into 24-hour sections "
   ]
  },
  {
   "cell_type": "code",
   "execution_count": 154,
   "metadata": {},
   "outputs": [
    {
     "name": "stdout",
     "output_type": "stream",
     "text": [
      "Input shape: (201388, 24, 1)\n",
      "Output shape: (201388,)\n",
      "Any Nans?: False\n"
     ]
    }
   ],
   "source": [
    "lstm_inputs = np.array([mag_field_strength[i:i + 24] for i in range(len(mag_field_strength) - 24)])[:, :, np.newaxis]\n",
    "lstm_outputs = np.array(mag_field_strength[24:])\n",
    "\n",
    "nan_check = np.array([mag_field_strength[i:i + 25] for i in range(len(mag_field_strength) - 25)])\n",
    "\n",
    "lstm_inputs = lstm_inputs[np.where([~np.any(np.isnan(i)) for i in nan_check])]\n",
    "lstm_outputs = lstm_outputs[np.where([~np.any(np.isnan(i)) for i in nan_check])]\n",
    "\n",
    "print(\"Input shape:\", lstm_inputs.shape)\n",
    "print(\"Output shape:\", lstm_outputs.shape)\n",
    "\n",
    "print(\"Any Nans?:\", np.any(np.isnan(lstm_outputs)) or np.any(np.isnan(lstm_inputs)))"
   ]
  },
  {
   "cell_type": "markdown",
   "metadata": {},
   "source": [
    "### Split into train/val/test"
   ]
  },
  {
   "cell_type": "code",
   "execution_count": 155,
   "metadata": {},
   "outputs": [
    {
     "name": "stdout",
     "output_type": "stream",
     "text": [
      "Train size: 134929\n",
      "Val size: 44527\n",
      "Test size: 21932\n"
     ]
    }
   ],
   "source": [
    "lstm_inputs_train, lstm_inputs_val_test, lstm_outputs_train, lstm_outputs_val_test = train_test_split(lstm_inputs, \n",
    "                                                                                                      lstm_outputs,\n",
    "                                                                                                      random_state=42,\n",
    "                                                                                                      test_size=0.33)\n",
    "\n",
    "lstm_inputs_val, lstm_inputs_test, lstm_outputs_val, lstm_outputs_test = train_test_split(lstm_inputs_val_test, \n",
    "                                                                                          lstm_outputs_val_test,\n",
    "                                                                                          random_state=42,\n",
    "                                                                                          test_size=0.33)\n",
    "\n",
    "print(\"Train size:\", len(lstm_inputs_train))\n",
    "print(\"Val size:\", len(lstm_inputs_val))\n",
    "print(\"Test size:\", len(lstm_inputs_test))"
   ]
  },
  {
   "cell_type": "code",
   "execution_count": 164,
   "metadata": {},
   "outputs": [
    {
     "name": "stdout",
     "output_type": "stream",
     "text": [
      "Train size: 134929\n",
      "Val size: 44527\n",
      "Test size: 21932\n"
     ]
    }
   ],
   "source": [
    "# Switch to actually doing it as splitting train/val/test into time-based \n",
    "lstm_inputs_train, lstm_outputs_train = lstm_inputs[:134929], lstm_outputs[:134929]\n",
    "lstm_inputs_val, lstm_outputs_val = lstm_inputs[134929:134929 + 44527], lstm_outputs[134929:134929 + 44527]\n",
    "lstm_inputs_test, lstm_outputs_test = lstm_inputs[134929 + 44527:], lstm_outputs[134929 + 44527:]\n",
    "\n",
    "print(\"Train size:\", len(lstm_inputs_train))\n",
    "print(\"Val size:\", len(lstm_inputs_val))\n",
    "print(\"Test size:\", len(lstm_inputs_test))"
   ]
  },
  {
   "cell_type": "markdown",
   "metadata": {},
   "source": [
    "### LSTM!"
   ]
  },
  {
   "cell_type": "code",
   "execution_count": 165,
   "metadata": {},
   "outputs": [
    {
     "name": "stdout",
     "output_type": "stream",
     "text": [
      "Model: \"sequential_22\"\n",
      "_________________________________________________________________\n",
      "Layer (type)                 Output Shape              Param #   \n",
      "=================================================================\n",
      "lstm_initial (LSTM)          (None, 20)                1760      \n",
      "_________________________________________________________________\n",
      "dense_final (Dense)          (None, 1)                 21        \n",
      "=================================================================\n",
      "Total params: 1,781\n",
      "Trainable params: 1,781\n",
      "Non-trainable params: 0\n",
      "_________________________________________________________________\n"
     ]
    }
   ],
   "source": [
    "model = keras.models.Sequential(\n",
    "    [\n",
    "        keras.layers.LSTM(20, activation=\"linear\", name=\"lstm_initial\", input_shape=(None, 1)),\n",
    "        keras.layers.Dense(1, name=\"dense_final\", activation=\"linear\"),\n",
    "    ]\n",
    ")\n",
    "model.summary()"
   ]
  },
  {
   "cell_type": "code",
   "execution_count": 166,
   "metadata": {
    "scrolled": true
   },
   "outputs": [
    {
     "name": "stdout",
     "output_type": "stream",
     "text": [
      "Epoch 1/30\n",
      "66/66 [==============================] - 3s 38ms/step - loss: 6.1090 - mae: 1.8254 - val_loss: 3.5083 - val_mae: 1.3254\n",
      "Epoch 2/30\n",
      "66/66 [==============================] - 2s 37ms/step - loss: 3.4165 - mae: 1.3024 - val_loss: 2.6905 - val_mae: 1.1263\n",
      "Epoch 3/30\n",
      "66/66 [==============================] - 2s 38ms/step - loss: 2.9992 - mae: 1.2049 - val_loss: 2.5665 - val_mae: 1.0989\n",
      "Epoch 4/30\n",
      "66/66 [==============================] - 2s 37ms/step - loss: 2.9322 - mae: 1.1893 - val_loss: 2.5262 - val_mae: 1.0804\n",
      "Epoch 5/30\n",
      "66/66 [==============================] - 3s 39ms/step - loss: 2.8986 - mae: 1.1818 - val_loss: 2.5076 - val_mae: 1.0794\n",
      "Epoch 6/30\n",
      "66/66 [==============================] - 3s 39ms/step - loss: 2.8864 - mae: 1.1794 - val_loss: 2.5962 - val_mae: 1.1165\n",
      "Epoch 7/30\n",
      "66/66 [==============================] - 2s 37ms/step - loss: 2.8796 - mae: 1.1780 - val_loss: 2.4894 - val_mae: 1.0844\n",
      "Epoch 8/30\n",
      "66/66 [==============================] - 3s 39ms/step - loss: 2.8720 - mae: 1.1765 - val_loss: 2.4955 - val_mae: 1.0818\n",
      "Epoch 9/30\n",
      "66/66 [==============================] - 3s 41ms/step - loss: 2.8684 - mae: 1.1762 - val_loss: 2.5130 - val_mae: 1.0909\n",
      "Epoch 10/30\n",
      "66/66 [==============================] - 3s 47ms/step - loss: 2.8642 - mae: 1.1758 - val_loss: 2.4851 - val_mae: 1.0760\n",
      "Epoch 11/30\n",
      "66/66 [==============================] - 3s 46ms/step - loss: 2.8623 - mae: 1.1756 - val_loss: 2.4884 - val_mae: 1.0741\n",
      "Epoch 12/30\n",
      "66/66 [==============================] - 3s 43ms/step - loss: 2.8591 - mae: 1.1741 - val_loss: 2.5219 - val_mae: 1.0914\n",
      "Epoch 13/30\n",
      "66/66 [==============================] - 3s 40ms/step - loss: 2.8561 - mae: 1.1746 - val_loss: 2.4862 - val_mae: 1.0790\n",
      "Epoch 14/30\n",
      "66/66 [==============================] - 3s 39ms/step - loss: 2.8542 - mae: 1.1734 - val_loss: 2.5109 - val_mae: 1.0874\n",
      "Epoch 15/30\n",
      "66/66 [==============================] - 3s 43ms/step - loss: 2.8519 - mae: 1.1739 - val_loss: 2.4871 - val_mae: 1.0849\n",
      "Epoch 16/30\n",
      "66/66 [==============================] - 3s 45ms/step - loss: 2.8505 - mae: 1.1737 - val_loss: 2.4850 - val_mae: 1.0745\n",
      "Epoch 17/30\n",
      "66/66 [==============================] - 3s 42ms/step - loss: 2.8484 - mae: 1.1732 - val_loss: 2.4799 - val_mae: 1.0757\n",
      "Epoch 18/30\n",
      "66/66 [==============================] - 3s 40ms/step - loss: 2.8469 - mae: 1.1729 - val_loss: 2.4831 - val_mae: 1.0830\n",
      "Epoch 19/30\n",
      "66/66 [==============================] - 3s 42ms/step - loss: 2.8459 - mae: 1.1731 - val_loss: 2.4942 - val_mae: 1.0821\n",
      "Epoch 20/30\n",
      "66/66 [==============================] - 3s 46ms/step - loss: 2.8440 - mae: 1.1724 - val_loss: 2.4805 - val_mae: 1.0801\n",
      "Epoch 21/30\n",
      "66/66 [==============================] - 3s 46ms/step - loss: 2.8442 - mae: 1.1732 - val_loss: 2.4830 - val_mae: 1.0755\n",
      "Epoch 22/30\n",
      "66/66 [==============================] - 3s 42ms/step - loss: 2.8397 - mae: 1.1725 - val_loss: 2.4808 - val_mae: 1.0828\n",
      "Epoch 23/30\n",
      "66/66 [==============================] - 3s 41ms/step - loss: 2.8416 - mae: 1.1722 - val_loss: 2.4935 - val_mae: 1.0814\n",
      "Epoch 24/30\n",
      "66/66 [==============================] - 3s 42ms/step - loss: 2.8381 - mae: 1.1720 - val_loss: 2.4943 - val_mae: 1.0822\n",
      "Epoch 25/30\n",
      "66/66 [==============================] - 3s 40ms/step - loss: 2.8362 - mae: 1.1717 - val_loss: 2.4925 - val_mae: 1.0839\n",
      "Epoch 26/30\n",
      "66/66 [==============================] - 3s 41ms/step - loss: 2.8361 - mae: 1.1713 - val_loss: 2.4891 - val_mae: 1.0859\n",
      "Epoch 27/30\n",
      "66/66 [==============================] - 3s 43ms/step - loss: 2.8354 - mae: 1.1715 - val_loss: 2.4837 - val_mae: 1.0813\n",
      "Epoch 28/30\n",
      "66/66 [==============================] - 3s 43ms/step - loss: 2.8343 - mae: 1.1713 - val_loss: 2.4930 - val_mae: 1.0789\n",
      "Epoch 29/30\n",
      "66/66 [==============================] - 3s 42ms/step - loss: 2.8347 - mae: 1.1712 - val_loss: 2.4914 - val_mae: 1.0882\n",
      "Epoch 30/30\n",
      "66/66 [==============================] - 3s 46ms/step - loss: 2.8310 - mae: 1.1711 - val_loss: 2.4900 - val_mae: 1.0720\n"
     ]
    },
    {
     "data": {
      "text/plain": [
       "<tensorflow.python.keras.callbacks.History at 0x11ac259b0>"
      ]
     },
     "execution_count": 166,
     "metadata": {},
     "output_type": "execute_result"
    }
   ],
   "source": [
    "model.compile(optimizer=\"rmsprop\", loss=\"mse\", metrics=[\"mae\"])\n",
    "model.fit(lstm_inputs_train, lstm_outputs_train, validation_data=(lstm_inputs_val, lstm_outputs_val),\n",
    "          batch_size=2048, epochs=30, \n",
    "          callbacks=keras.callbacks.EarlyStopping(restore_best_weights=True, patience=30))"
   ]
  }
 ],
 "metadata": {
  "kernelspec": {
   "display_name": "Python 3",
   "language": "python",
   "name": "python3"
  },
  "language_info": {
   "codemirror_mode": {
    "name": "ipython",
    "version": 3
   },
   "file_extension": ".py",
   "mimetype": "text/x-python",
   "name": "python",
   "nbconvert_exporter": "python",
   "pygments_lexer": "ipython3",
   "version": "3.7.0"
  }
 },
 "nbformat": 4,
 "nbformat_minor": 4
}
