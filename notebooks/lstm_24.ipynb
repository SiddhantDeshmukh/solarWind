{
 "cells": [
  {
   "cell_type": "code",
   "execution_count": 1,
   "metadata": {},
   "outputs": [],
   "source": [
    "from datetime import datetime\n",
    "import os\n",
    "import warnings\n",
    "\n",
    "import heliopy.data.omni as omni\n",
    "from matplotlib import pyplot as plt\n",
    "import optuna\n",
    "from optuna import visualization as viz\n",
    "import numpy as np\n",
    "import pandas as pd\n",
    "from scipy.signal import find_peaks\n",
    "from scipy.stats import ks_2samp\n",
    "from tensorflow import keras\n",
    "\n",
    "from typing import *\n",
    "\n",
    "warnings.filterwarnings(\"ignore\")\n",
    "plt.style.use(\"seaborn\")"
   ]
  },
  {
   "cell_type": "code",
   "execution_count": 3,
   "metadata": {},
   "outputs": [],
   "source": [
    "START_TIME_CYCLE_21 = datetime(1976, 3, 1)  \n",
    "START_TIME_CYCLE_22 = datetime(1986, 9, 1)  \n",
    "START_TIME_CYCLE_23 = datetime(1996, 8, 1)  \n",
    "START_TIME_CYCLE_24 = datetime(2008, 12, 1)  \n",
    "START_TIME_CYCLE_25 = datetime(2019, 12, 1)\n",
    "\n",
    "INPUT_LENGTH = 100\n",
    "OUTPUT_LENGTH = 24"
   ]
  },
  {
   "cell_type": "code",
   "execution_count": 4,
   "metadata": {},
   "outputs": [],
   "source": [
    "def get_omni_rtn_data(start_time, end_time):\n",
    "    identifier = 'OMNI_COHO1HR_MERGED_MAG_PLASMA'  # COHO 1HR data\n",
    "    omni_data = omni._omni(start_time, end_time, identifier=identifier, intervals='yearly', warn_missing_units=False)\n",
    "    return omni_data"
   ]
  },
  {
   "cell_type": "code",
   "execution_count": 5,
   "metadata": {},
   "outputs": [],
   "source": [
    "cycle_21 = get_omni_rtn_data(START_TIME_CYCLE_21, START_TIME_CYCLE_22).to_dataframe()\n",
    "cycle_22 = get_omni_rtn_data(START_TIME_CYCLE_22, START_TIME_CYCLE_23).to_dataframe()\n",
    "cycle_23 = get_omni_rtn_data(START_TIME_CYCLE_23, START_TIME_CYCLE_24).to_dataframe()\n",
    "cycle_24 = get_omni_rtn_data(START_TIME_CYCLE_24, START_TIME_CYCLE_25).to_dataframe()\n",
    "\n",
    "mag_field_strength_21 = np.array(cycle_21[\"BR\"])\n",
    "mag_field_strength_22 = np.array(cycle_22[\"BR\"])\n",
    "mag_field_strength_23 = np.array(cycle_23[\"BR\"])\n",
    "mag_field_strength_24 = np.array(cycle_24[\"BR\"])"
   ]
  },
  {
   "cell_type": "code",
   "execution_count": 29,
   "metadata": {},
   "outputs": [],
   "source": [
    "def lstm_prepare_1d(mag_field_strength, input_length=INPUT_LENGTH, output_length=OUTPUT_LENGTH):\n",
    "    inputs = np.array([mag_field_strength[i:i + input_length] \n",
    "                       for i in range(len(mag_field_strength) - input_length)])[:, :, np.newaxis]\n",
    "    outputs = np.array([mag_field_strength[i + input_length:i + input_length + output_length] \n",
    "                        for i in range(len(mag_field_strength) - input_length - output_length)])\n",
    "\n",
    "\n",
    "    nan_check = np.array([mag_field_strength[i:i + input_length + output_length] \n",
    "                          for i in range(len(mag_field_strength) - input_length - output_length)])\n",
    "\n",
    "    inputs = inputs[np.where([~np.any(np.isnan(i)) for i in nan_check])]\n",
    "    outputs = outputs[np.where([~np.any(np.isnan(i)) for i in nan_check])]\n",
    "    \n",
    "\n",
    "    print(\"Input shape:\", inputs.shape)\n",
    "    print(\"Output shape:\", outputs.shape)\n",
    "    print(\"Any Nans?:\", np.any(np.isnan(outputs)) or np.any(np.isnan(inputs)))\n",
    "    print(\"\")\n",
    "    return inputs, outputs"
   ]
  },
  {
   "cell_type": "code",
   "execution_count": 30,
   "metadata": {
    "scrolled": true
   },
   "outputs": [
    {
     "name": "stdout",
     "output_type": "stream",
     "text": [
      "Input shape: (5132, 100, 1)\n",
      "Output shape: (5132, 24)\n",
      "Any Nans?: False\n",
      "\n",
      "Input shape: (105288, 100, 1)\n",
      "Output shape: (105288, 24)\n",
      "Any Nans?: False\n",
      "\n",
      "Input shape: (11376, 100, 1)\n",
      "Output shape: (11376, 24)\n",
      "Any Nans?: False\n",
      "\n",
      "Input shape: (95144, 100, 1)\n",
      "Output shape: (95144, 24)\n",
      "Any Nans?: False\n",
      "\n"
     ]
    }
   ],
   "source": [
    "inputs_21, outputs_21 = lstm_prepare_1d(mag_field_strength_21)\n",
    "inputs_23, outputs_23 = lstm_prepare_1d(mag_field_strength_23)\n",
    "inputs_val, outputs_val = lstm_prepare_1d(mag_field_strength_22)\n",
    "inputs_test, outputs_test = lstm_prepare_1d(mag_field_strength_24)"
   ]
  },
  {
   "cell_type": "code",
   "execution_count": 31,
   "metadata": {},
   "outputs": [],
   "source": [
    "inputs_train = np.concatenate([inputs_21, inputs_23])\n",
    "outputs_train = np.concatenate([outputs_21, outputs_23])"
   ]
  },
  {
   "cell_type": "markdown",
   "metadata": {},
   "source": [
    "### Baselines"
   ]
  },
  {
   "cell_type": "code",
   "execution_count": 41,
   "metadata": {},
   "outputs": [],
   "source": [
    "baselines = {}"
   ]
  },
  {
   "cell_type": "markdown",
   "metadata": {},
   "source": [
    "##### Last 24 Timestep"
   ]
  },
  {
   "cell_type": "code",
   "execution_count": 61,
   "metadata": {},
   "outputs": [
    {
     "name": "stdout",
     "output_type": "stream",
     "text": [
      "MSE last_train: 16.976336\n",
      "MSE last_val: 13.899673\n",
      "MSE last_test: 12.40154\n"
     ]
    }
   ],
   "source": [
    "for name, dset, out in zip([\"last_train\", \"last_val\", \"last_test\"], \n",
    "                           [inputs_train, inputs_val, inputs_test],\n",
    "                           [outputs_train, outputs_val, outputs_test]):\n",
    "    baselines[name] = dset[:, -24:, 0]\n",
    "    print(\"MSE {}:\".format(name), np.mean(np.mean((baselines[name] - out) ** 2, axis=1)))"
   ]
  },
  {
   "cell_type": "markdown",
   "metadata": {},
   "source": [
    "##### Last Timestep"
   ]
  },
  {
   "cell_type": "code",
   "execution_count": 62,
   "metadata": {},
   "outputs": [
    {
     "name": "stdout",
     "output_type": "stream",
     "text": [
      "MSE last_train: 12.91327\n",
      "MSE last_val: 11.227758\n",
      "MSE last_test: 9.525721\n"
     ]
    }
   ],
   "source": [
    "for name, dset, out in zip([\"last_train\", \"last_val\", \"last_test\"], \n",
    "                           [inputs_train, inputs_val, inputs_test],\n",
    "                           [outputs_train, outputs_val, outputs_test]):\n",
    "    baselines[name] = dset[:, -1:, 0]\n",
    "    print(\"MSE {}:\".format(name), np.mean(np.mean((baselines[name] - out) ** 2, axis=1)))"
   ]
  },
  {
   "cell_type": "markdown",
   "metadata": {},
   "source": [
    "##### Mean of last day"
   ]
  },
  {
   "cell_type": "code",
   "execution_count": 69,
   "metadata": {},
   "outputs": [
    {
     "name": "stdout",
     "output_type": "stream",
     "text": [
      "MSE mean_train: 11.312171\n",
      "MSE mean_val: 9.051903\n",
      "MSE mean_test: 8.162513\n"
     ]
    }
   ],
   "source": [
    "for name, dset, out in zip([\"mean_train\", \"mean_val\", \"mean_test\"], \n",
    "                           [inputs_train, inputs_val, inputs_test],\n",
    "                           [outputs_train, outputs_val, outputs_test]):\n",
    "    baselines[name] = np.mean(dset[:, -24:, 0], axis=1)[:, np.newaxis]\n",
    "    print(\"MSE {}:\".format(name), np.mean((baselines[name] - out) ** 2))"
   ]
  },
  {
   "cell_type": "markdown",
   "metadata": {},
   "source": [
    "##### Median"
   ]
  },
  {
   "cell_type": "code",
   "execution_count": 70,
   "metadata": {},
   "outputs": [
    {
     "name": "stdout",
     "output_type": "stream",
     "text": [
      "MSE median_train: 12.128397\n",
      "MSE median_val: 9.716257\n",
      "MSE median_test: 8.827617\n"
     ]
    }
   ],
   "source": [
    "for name, dset, out in zip([\"median_train\", \"median_val\", \"median_test\"], \n",
    "                           [inputs_train, inputs_val, inputs_test],\n",
    "                           [outputs_train, outputs_val, outputs_test]):\n",
    "    baselines[name] = np.median(dset[:, -24:, 0], axis=1)[:, np.newaxis]\n",
    "    print(\"MSE {}:\".format(name), np.mean((baselines[name] - out) ** 2))"
   ]
  },
  {
   "cell_type": "markdown",
   "metadata": {},
   "source": [
    "##### Start"
   ]
  },
  {
   "cell_type": "code",
   "execution_count": 71,
   "metadata": {},
   "outputs": [
    {
     "name": "stdout",
     "output_type": "stream",
     "text": [
      "MSE start_train: 18.744093\n",
      "MSE start_val: 15.315161\n",
      "MSE start_test: 13.658504\n"
     ]
    }
   ],
   "source": [
    "for name, dset, out in zip([\"start_train\", \"start_val\", \"start_test\"], \n",
    "                           [inputs_train, inputs_val, inputs_test],\n",
    "                           [outputs_train, outputs_val, outputs_test]):\n",
    "    baselines[name] = dset[:, -24:-23, 0]\n",
    "    print(\"MSE {}:\".format(name), np.mean((baselines[name] - out) ** 2))"
   ]
  },
  {
   "cell_type": "markdown",
   "metadata": {},
   "source": [
    "### LSTM"
   ]
  },
  {
   "cell_type": "code",
   "execution_count": 85,
   "metadata": {},
   "outputs": [],
   "source": [
    "train_mag = np.concatenate([mag_field_strength_21, mag_field_strength_23])"
   ]
  },
  {
   "cell_type": "markdown",
   "metadata": {},
   "source": [
    "##### Normalised"
   ]
  },
  {
   "cell_type": "code",
   "execution_count": 86,
   "metadata": {},
   "outputs": [],
   "source": [
    "inputs_train_norm = (inputs_train - np.nanmean(train_mag)) / np.nanstd(train_mag)\n",
    "outputs_train_norm = (outputs_train - np.nanmean(train_mag)) / np.nanstd(train_mag)\n",
    "\n",
    "inputs_val_norm = (inputs_val - np.nanmean(train_mag)) / np.nanstd(train_mag)\n",
    "outputs_val_norm = (outputs_val - np.nanmean(train_mag)) / np.nanstd(train_mag)\n",
    "\n",
    "inputs_test_norm = (inputs_test - np.nanmean(train_mag)) / np.nanstd(train_mag)"
   ]
  },
  {
   "cell_type": "code",
   "execution_count": null,
   "metadata": {
    "scrolled": true
   },
   "outputs": [],
   "source": [
    "i = 100\n",
    "j = 32\n",
    "\n",
    "model = keras.models.Sequential(\n",
    "    [\n",
    "        keras.layers.LSTM(j, name=\"lstm_initial\", input_shape=(None, 1)),\n",
    "        keras.layers.Dense(OUTPUT_LENGTH, name=\"dense_final\", activation=\"linear\"),\n",
    "    ]\n",
    ")\n",
    "optimizer = keras.optimizers.Adam(lr=1e-3)\n",
    "model.compile(optimizer=optimizer, loss=\"mse\", metrics=[\"mae\"])\n",
    "model.fit(inputs_train_norm[:, -i:], outputs_train_norm, validation_data=(inputs_val_norm[:, -i:], outputs_val_norm),\n",
    "          batch_size=32, epochs=500, verbose=2,\n",
    "          callbacks=[keras.callbacks.EarlyStopping(restore_best_weights=True, patience=10)])\n"
   ]
  },
  {
   "cell_type": "code",
   "execution_count": 88,
   "metadata": {},
   "outputs": [],
   "source": [
    "preds = model.predict(inputs_test_norm) * np.nanstd(train_mag) + np.nanmean(train_mag)"
   ]
  },
  {
   "cell_type": "code",
   "execution_count": 89,
   "metadata": {},
   "outputs": [
    {
     "data": {
      "text/plain": [
       "6.6148252"
      ]
     },
     "execution_count": 89,
     "metadata": {},
     "output_type": "execute_result"
    }
   ],
   "source": [
    "np.mean(np.mean((preds - outputs_test) ** 2, axis=1))"
   ]
  },
  {
   "cell_type": "markdown",
   "metadata": {},
   "source": [
    "##### Non-normalised"
   ]
  },
  {
   "cell_type": "code",
   "execution_count": 81,
   "metadata": {
    "scrolled": true
   },
   "outputs": [
    {
     "name": "stdout",
     "output_type": "stream",
     "text": [
      "Epoch 1/500\n",
      "3451/3451 - 68s - loss: 9.2058 - mae: 2.1950 - val_loss: 7.6166 - val_mae: 2.0915\n",
      "Epoch 2/500\n",
      "3451/3451 - 64s - loss: 8.9666 - mae: 2.1555 - val_loss: 7.6237 - val_mae: 2.1002\n",
      "Epoch 3/500\n",
      "3451/3451 - 64s - loss: 8.9366 - mae: 2.1547 - val_loss: 7.6309 - val_mae: 2.0946\n",
      "Epoch 4/500\n",
      "3451/3451 - 72s - loss: 8.9116 - mae: 2.1512 - val_loss: 7.7363 - val_mae: 2.1313\n",
      "Epoch 5/500\n",
      "3451/3451 - 73s - loss: 8.8589 - mae: 2.1450 - val_loss: 7.8493 - val_mae: 2.1175\n",
      "Epoch 6/500\n",
      "3451/3451 - 71s - loss: 8.7945 - mae: 2.1377 - val_loss: 7.7321 - val_mae: 2.1256\n",
      "Epoch 7/500\n",
      "3451/3451 - 79s - loss: 8.7154 - mae: 2.1310 - val_loss: 7.7520 - val_mae: 2.1133\n",
      "Epoch 8/500\n",
      "3451/3451 - 75s - loss: 8.6372 - mae: 2.1220 - val_loss: 7.9955 - val_mae: 2.1278\n",
      "Epoch 9/500\n",
      "3451/3451 - 74s - loss: 8.5847 - mae: 2.1159 - val_loss: 7.8537 - val_mae: 2.1248\n",
      "Epoch 10/500\n",
      "3451/3451 - 73s - loss: 8.5448 - mae: 2.1128 - val_loss: 7.9252 - val_mae: 2.1393\n",
      "Epoch 11/500\n",
      "3451/3451 - 75s - loss: 8.4902 - mae: 2.1075 - val_loss: 8.0118 - val_mae: 2.1368\n"
     ]
    },
    {
     "data": {
      "text/plain": [
       "<tensorflow.python.keras.callbacks.History at 0x7f9af9be9f28>"
      ]
     },
     "execution_count": 81,
     "metadata": {},
     "output_type": "execute_result"
    }
   ],
   "source": [
    "i = 100\n",
    "j = 32\n",
    "\n",
    "model = keras.models.Sequential(\n",
    "    [\n",
    "        keras.layers.LSTM(j, name=\"lstm_initial\", input_shape=(None, 1)),\n",
    "        keras.layers.Dense(OUTPUT_LENGTH, name=\"dense_final\", activation=\"linear\"),\n",
    "    ]\n",
    ")\n",
    "optimizer = keras.optimizers.Adam(lr=1e-3)\n",
    "model.compile(optimizer=optimizer, loss=\"mse\", metrics=[\"mae\"])\n",
    "model.fit(inputs_train[:, -i:], outputs_train, validation_data=(inputs_val[:, -i:], outputs_val),\n",
    "          batch_size=32, epochs=500, verbose=2,\n",
    "          callbacks=[keras.callbacks.EarlyStopping(restore_best_weights=True, patience=10),\n",
    "                     keras.callbacks.ModelCheckpoint(\"../models/baseline_model_cycle_{}_{}.h5\".format(i, j), save_best_only=True)])\n"
   ]
  },
  {
   "cell_type": "code",
   "execution_count": 82,
   "metadata": {},
   "outputs": [],
   "source": [
    "preds = model.predict(inputs_test)"
   ]
  },
  {
   "cell_type": "code",
   "execution_count": 83,
   "metadata": {},
   "outputs": [
    {
     "data": {
      "text/plain": [
       "6.6369243"
      ]
     },
     "execution_count": 83,
     "metadata": {},
     "output_type": "execute_result"
    }
   ],
   "source": [
    "np.mean(np.mean((preds - outputs_test) ** 2, axis=1))"
   ]
  }
 ],
 "metadata": {
  "kernelspec": {
   "display_name": "Python 3",
   "language": "python",
   "name": "python3"
  },
  "language_info": {
   "codemirror_mode": {
    "name": "ipython",
    "version": 3
   },
   "file_extension": ".py",
   "mimetype": "text/x-python",
   "name": "python",
   "nbconvert_exporter": "python",
   "pygments_lexer": "ipython3",
   "version": "3.7.0"
  }
 },
 "nbformat": 4,
 "nbformat_minor": 4
}
