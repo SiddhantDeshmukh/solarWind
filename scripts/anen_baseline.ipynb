{
 "cells": [
  {
   "cell_type": "code",
   "execution_count": 10,
   "metadata": {},
   "outputs": [
    {
     "output_type": "stream",
     "name": "stdout",
     "text": [
      "The autoreload extension is already loaded. To reload it, use:\n  %reload_ext autoreload\n"
     ]
    }
   ],
   "source": [
    "from analogue_ensemble import * \n",
    "from datetime import datetime\n",
    "import heliopy.data.omni as omni\n",
    "from tqdm import tqdm_notebook as tqdm\n",
    "\n",
    "%load_ext autoreload\n",
    "%autoreload 2"
   ]
  },
  {
   "cell_type": "code",
   "execution_count": 11,
   "metadata": {},
   "outputs": [],
   "source": [
    "def get_omni_rtn_data(start_time, end_time):\n",
    "    identifier = 'OMNI_COHO1HR_MERGED_MAG_PLASMA'  # COHO 1HR data\n",
    "    omni_data = omni._omni(start_time, end_time, identifier=identifier, intervals='yearly', warn_missing_units=False)\n",
    "    return omni_data\n",
    "    \n",
    "def calculate_geoeffectiveness(wind_density: np.ndarray,\n",
    "                               hmf_intensity: np.ndarray,\n",
    "                               wind_speed: np.ndarray,\n",
    "                               hmf_clock_angle: np.ndarray,\n",
    "                               norm_angle=False) -> np.ndarray:\n",
    "  # 'norm_angle' refers to the domain of 'hmf_clock_angle'.\n",
    "  # False: theta ~ [-pi, pi] (standard)\n",
    "  # True: theta ~ [0, 2pi] (new normalisation, subtract pi to revert)\n",
    "  alpha = 0.5  # empirically determined\n",
    "\n",
    "  # Revert domain to [-pi, pi] from [0, 2pi]\n",
    "  if norm_angle:\n",
    "    hmf_clock_angle -= np.pi\n",
    "\n",
    "  geoffectiveness = wind_density**(2/3 - alpha) * \\\n",
    "      hmf_intensity**(2*alpha) * \\\n",
    "      wind_speed**(7/3 - 2 * alpha) * \\\n",
    "      np.sin(hmf_clock_angle / 2)**4\n",
    "\n",
    "  return geoffectiveness"
   ]
  },
  {
   "cell_type": "code",
   "execution_count": 12,
   "metadata": {},
   "outputs": [],
   "source": [
    "data_start_time = datetime(1995, 1, 1)\n",
    "data_end_time = datetime(2019, 12, 31)\n",
    "\n",
    "omni_data = get_omni_rtn_data(\n",
    "  data_start_time, data_end_time).to_dataframe()\n",
    "\n",
    "\n",
    "training_window = 24 \n",
    "forecast_window = 24\n",
    "num_analogues = 50\n",
    "\n",
    "omni_data['HMF_INC'] = np.arctan2(-omni_data['BT'].values, omni_data['BN'].values)\n",
    "omni_data['G'] = calculate_geoeffectiveness(omni_data[\"N\"], omni_data[\"ABS_B\"], omni_data[\"V\"], omni_data[\"HMF_INC\"])\n",
    "omni_data = omni_data.interpolate()"
   ]
  },
  {
   "cell_type": "code",
   "execution_count": 13,
   "metadata": {},
   "outputs": [
    {
     "output_type": "stream",
     "name": "stdout",
     "text": [
      "range(24, 219119)\nIndex(['heliographicLatitude', 'heliographicLongitude', 'BR', 'BT', 'BN',\n       'ABS_B', 'V', 'elevAngle', 'azimuthAngle', 'N', 'T', 'HMF_INC', 'G'],\n      dtype='object')\n"
     ]
    }
   ],
   "source": [
    "# train_prop = 0.6\n",
    "# val_prop = 0.2\n",
    "length = len(omni_data)\n",
    "test_period = range(24, length - 24)\n",
    "print(test_period)\n",
    "# test_period = range(int(length * (train_prop + val_prop)), len(omni_data) - 24)\n",
    "# print(test_period)\n",
    "VARS_TO_PREDICT = [\"N\", \"ABS_B\", \"V\", \"HMF_INC\", \"G\"]\n",
    "print(omni_data.keys())"
   ]
  },
  {
   "cell_type": "code",
   "execution_count": 14,
   "metadata": {},
   "outputs": [
    {
     "output_type": "stream",
     "name": "stderr",
     "text": [
      "<ipython-input-14-9eeb5d88e4ea>:8: TqdmDeprecationWarning: This function will be removed in tqdm==5.0.0\nPlease use `tqdm.notebook.tqdm` instead of `tqdm.tqdm_notebook`\n  for i, forecast_time_start in enumerate(tqdm(test_period)):\n"
     ]
    },
    {
     "output_type": "display_data",
     "data": {
      "text/plain": "HBox(children=(FloatProgress(value=0.0, max=219095.0), HTML(value='')))",
      "application/vnd.jupyter.widget-view+json": {
       "version_major": 2,
       "version_minor": 0,
       "model_id": "96e3086013d14cc897cb9a7a98009ca5"
      }
     },
     "metadata": {}
    },
    {
     "output_type": "stream",
     "name": "stderr",
     "text": [
      "/home/sdeshmukh/anaconda3/lib/python3.8/site-packages/numpy/lib/nanfunctions.py:1111: RuntimeWarning: Mean of empty slice\n",
      "  return np.nanmean(a, axis, out=out, keepdims=keepdims)\n",
      "\n"
     ]
    },
    {
     "output_type": "error",
     "ename": "KeyboardInterrupt",
     "evalue": "",
     "traceback": [
      "\u001b[0;31m---------------------------------------------------------------------------\u001b[0m",
      "\u001b[0;31mKeyboardInterrupt\u001b[0m                         Traceback (most recent call last)",
      "\u001b[0;32m<ipython-input-14-9eeb5d88e4ea>\u001b[0m in \u001b[0;36m<module>\u001b[0;34m\u001b[0m\n\u001b[1;32m      8\u001b[0m     \u001b[0;32mfor\u001b[0m \u001b[0mi\u001b[0m\u001b[0;34m,\u001b[0m \u001b[0mforecast_time_start\u001b[0m \u001b[0;32min\u001b[0m \u001b[0menumerate\u001b[0m\u001b[0;34m(\u001b[0m\u001b[0mtqdm\u001b[0m\u001b[0;34m(\u001b[0m\u001b[0mtest_period\u001b[0m\u001b[0;34m)\u001b[0m\u001b[0;34m)\u001b[0m\u001b[0;34m:\u001b[0m\u001b[0;34m\u001b[0m\u001b[0;34m\u001b[0m\u001b[0m\n\u001b[1;32m      9\u001b[0m         \u001b[0manalogue_matrix\u001b[0m\u001b[0;34m,\u001b[0m \u001b[0manalogue_prediction\u001b[0m\u001b[0;34m,\u001b[0m \u001b[0mobserved_trend\u001b[0m \u001b[0;34m=\u001b[0m\u001b[0;31m \u001b[0m\u001b[0;31m\\\u001b[0m\u001b[0;34m\u001b[0m\u001b[0;34m\u001b[0m\u001b[0m\n\u001b[0;32m---> 10\u001b[0;31m           \u001b[0mrun_analogue_ensemble\u001b[0m\u001b[0;34m(\u001b[0m\u001b[0mdata\u001b[0m\u001b[0;34m,\u001b[0m \u001b[0mforecast_time_start\u001b[0m\u001b[0;34m)\u001b[0m\u001b[0;34m\u001b[0m\u001b[0;34m\u001b[0m\u001b[0m\n\u001b[0m\u001b[1;32m     11\u001b[0m         \u001b[0mpredictions\u001b[0m\u001b[0;34m[\u001b[0m\u001b[0mi\u001b[0m\u001b[0;34m]\u001b[0m \u001b[0;34m=\u001b[0m \u001b[0manalogue_prediction\u001b[0m\u001b[0;34m[\u001b[0m\u001b[0;36m24\u001b[0m\u001b[0;34m:\u001b[0m\u001b[0;34m]\u001b[0m\u001b[0;34m\u001b[0m\u001b[0;34m\u001b[0m\u001b[0m\n\u001b[1;32m     12\u001b[0m         \u001b[0mobserved\u001b[0m\u001b[0;34m[\u001b[0m\u001b[0mi\u001b[0m\u001b[0;34m]\u001b[0m \u001b[0;34m=\u001b[0m \u001b[0mnp\u001b[0m\u001b[0;34m.\u001b[0m\u001b[0marray\u001b[0m\u001b[0;34m(\u001b[0m\u001b[0mobserved_trend\u001b[0m\u001b[0;34m[\u001b[0m\u001b[0;36m24\u001b[0m\u001b[0;34m:\u001b[0m\u001b[0;34m]\u001b[0m\u001b[0;34m)\u001b[0m\u001b[0;34m\u001b[0m\u001b[0;34m\u001b[0m\u001b[0m\n",
      "\u001b[0;32m/mnt/d/sdeshmukh/Documents/solarWind/scripts/analogue_ensemble.py\u001b[0m in \u001b[0;36mrun_analogue_ensemble\u001b[0;34m(data, forecast_time_index, lookback_and_lookforward, num_analogues)\u001b[0m\n\u001b[1;32m     86\u001b[0m \u001b[0;34m\u001b[0m\u001b[0m\n\u001b[1;32m     87\u001b[0m   \u001b[0;31m# Calculate error matrix *!based on key!*\u001b[0m\u001b[0;34m\u001b[0m\u001b[0;34m\u001b[0m\u001b[0;34m\u001b[0m\u001b[0m\n\u001b[0;32m---> 88\u001b[0;31m   \u001b[0mmse_matrix\u001b[0m \u001b[0;34m=\u001b[0m \u001b[0mmse_error_matrix\u001b[0m\u001b[0;34m(\u001b[0m\u001b[0mdata_before_forecast\u001b[0m\u001b[0;34m,\u001b[0m \u001b[0mcurrent_trend\u001b[0m\u001b[0;34m)\u001b[0m\u001b[0;34m\u001b[0m\u001b[0;34m\u001b[0m\u001b[0m\n\u001b[0m\u001b[1;32m     89\u001b[0m \u001b[0;34m\u001b[0m\u001b[0m\n\u001b[1;32m     90\u001b[0m   \u001b[0;31m# Remove rows from DataFrame that were removed when calculating error\u001b[0m\u001b[0;34m\u001b[0m\u001b[0;34m\u001b[0m\u001b[0;34m\u001b[0m\u001b[0m\n",
      "\u001b[0;32m/mnt/d/sdeshmukh/Documents/solarWind/scripts/analogue_ensemble.py\u001b[0m in \u001b[0;36mmse_error_matrix\u001b[0;34m(data_before_forecast, current_trend)\u001b[0m\n\u001b[1;32m     46\u001b[0m \u001b[0;34m\u001b[0m\u001b[0m\n\u001b[1;32m     47\u001b[0m   \u001b[0;31m# Compute squared error\u001b[0m\u001b[0;34m\u001b[0m\u001b[0;34m\u001b[0m\u001b[0;34m\u001b[0m\u001b[0m\n\u001b[0;32m---> 48\u001b[0;31m   \u001b[0merror_matrix\u001b[0m \u001b[0;34m=\u001b[0m \u001b[0mnp\u001b[0m\u001b[0;34m.\u001b[0m\u001b[0msquare\u001b[0m\u001b[0;34m(\u001b[0m\u001b[0merror_matrix\u001b[0m \u001b[0;34m-\u001b[0m \u001b[0mcurrent_trend\u001b[0m\u001b[0;34m.\u001b[0m\u001b[0mvalues\u001b[0m\u001b[0;34m)\u001b[0m\u001b[0;34m\u001b[0m\u001b[0;34m\u001b[0m\u001b[0m\n\u001b[0m\u001b[1;32m     49\u001b[0m \u001b[0;34m\u001b[0m\u001b[0m\n\u001b[1;32m     50\u001b[0m   \u001b[0;31m# MSE - take mean over analogues\u001b[0m\u001b[0;34m\u001b[0m\u001b[0;34m\u001b[0m\u001b[0;34m\u001b[0m\u001b[0m\n",
      "\u001b[0;31mKeyboardInterrupt\u001b[0m: "
     ]
    }
   ],
   "source": [
    "preds_all = []\n",
    "obs_all = []\n",
    "for j, key in enumerate(VARS_TO_PREDICT):\n",
    "    data = omni_data[key]\n",
    "\n",
    "    predictions = np.zeros((len(test_period), 24))\n",
    "    observed = np.zeros((len(test_period), 24))\n",
    "    for i, forecast_time_start in enumerate(tqdm(test_period)):\n",
    "        analogue_matrix, analogue_prediction, observed_trend = \\\n",
    "          run_analogue_ensemble(data, forecast_time_start)\n",
    "        predictions[i] = analogue_prediction[24:]\n",
    "        observed[i] = np.array(observed_trend[24:])\n",
    "    preds_all.append(predictions)\n",
    "    obs_all.append(observed)\n",
    "\n",
    "    np.save(f'./predictions-{key}', predictions)\n",
    "    np.save(f'./observed-{key}', observed)"
   ]
  },
  {
   "cell_type": "code",
   "execution_count": 6,
   "metadata": {},
   "outputs": [],
   "source": [
    "preds_all = np.transpose(np.stack(preds_all), (1, 2, 0))\n",
    "obs_all = np.transpose(np.stack(obs_all), (1, 2, 0))"
   ]
  },
  {
   "cell_type": "markdown",
   "metadata": {},
   "source": [
    "### NAN Removal"
   ]
  },
  {
   "cell_type": "code",
   "execution_count": 7,
   "metadata": {},
   "outputs": [],
   "source": [
    "omni_data_orig = get_omni_rtn_data(\n",
    "  data_start_time, data_end_time).to_dataframe()\n",
    "\n",
    "omni_data_orig['HMF_INC'] = np.arctan2(-omni_data_orig['BT'].values, omni_data_orig['BN'].values)\n",
    "\n",
    "multi_array = np.array(omni_data_orig[VARS_TO_PREDICT])[test_period]\n",
    "inputs = np.array([multi_array[i:i + training_window] \n",
    "                       for i in range(len(multi_array) - 2 * training_window + 1)])\n",
    "outputs = np.array([multi_array[i + training_window:i + 2 * training_window] \n",
    "                        for i in range(len(multi_array) - 2 * training_window + 1)])\n",
    "\n",
    "nan_check = np.array([multi_array[i:i + 2 * training_window] \n",
    "                          for i in range(len(multi_array) - 2 * training_window + 1)])"
   ]
  },
  {
   "cell_type": "code",
   "execution_count": 8,
   "metadata": {},
   "outputs": [],
   "source": [
    "preds_all = preds_all[np.where([~np.any(np.isnan(i)) for i in nan_check])]\n",
    "obs_all = obs_all[np.where([~np.any(np.isnan(i)) for i in nan_check])]"
   ]
  },
  {
   "cell_type": "markdown",
   "metadata": {},
   "source": [
    "### Final MAE and MSE"
   ]
  },
  {
   "cell_type": "code",
   "execution_count": 9,
   "metadata": {},
   "outputs": [
    {
     "output_type": "stream",
     "name": "stdout",
     "text": [
      "MAE: 2.5631750299562683\nMSE: 34.93773735769931\n"
     ]
    }
   ],
   "source": [
    "print(\"MAE:\", np.mean(np.abs(preds_all - obs_all)))\n",
    "print(\"MSE:\", np.mean((preds_all - obs_all) ** 2))"
   ]
  },
  {
   "cell_type": "code",
   "execution_count": null,
   "metadata": {},
   "outputs": [],
   "source": []
  }
 ],
 "metadata": {
  "kernelspec": {
   "name": "python3",
   "display_name": "Python 3.8.3 64-bit ('base': conda)"
  },
  "language_info": {
   "codemirror_mode": {
    "name": "ipython",
    "version": 3
   },
   "file_extension": ".py",
   "mimetype": "text/x-python",
   "name": "python",
   "nbconvert_exporter": "python",
   "pygments_lexer": "ipython3",
   "version": "3.8.3"
  },
  "interpreter": {
   "hash": "d39e0e9db62ab64647d4203756b66693f9e746c6ca98cf1fab2a60e0afaf343d"
  }
 },
 "nbformat": 4,
 "nbformat_minor": 4
}